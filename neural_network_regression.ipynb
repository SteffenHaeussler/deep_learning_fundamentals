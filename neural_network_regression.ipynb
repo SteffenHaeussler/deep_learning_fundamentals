{
 "cells": [
  {
   "cell_type": "code",
   "execution_count": 1,
   "metadata": {},
   "outputs": [],
   "source": [
    "%matplotlib inline\n",
    "\n",
    "import numpy as np\n",
    "from numpy import ndarray\n",
    "import matplotlib.pyplot as plt\n",
    "\n",
    "from typing import Callable, Dict, Tuple, List\n"
   ]
  },
  {
   "cell_type": "code",
   "execution_count": 2,
   "metadata": {},
   "outputs": [],
   "source": [
    "from sklearn.datasets import load_boston"
   ]
  },
  {
   "cell_type": "markdown",
   "metadata": {},
   "source": [
    "### preparation"
   ]
  },
  {
   "cell_type": "code",
   "execution_count": 3,
   "metadata": {},
   "outputs": [],
   "source": [
    "boston = load_boston()\n",
    "data = boston.data\n",
    "target = boston.target\n",
    "features = boston.feature_names"
   ]
  },
  {
   "cell_type": "code",
   "execution_count": 4,
   "metadata": {},
   "outputs": [],
   "source": [
    "from sklearn.preprocessing import StandardScaler\n",
    "s = StandardScaler()\n",
    "data = s.fit_transform(data)"
   ]
  },
  {
   "cell_type": "code",
   "execution_count": 5,
   "metadata": {},
   "outputs": [],
   "source": [
    "from sklearn.model_selection import train_test_split\n",
    "X_train, X_test, y_train, y_test = train_test_split(data, target, test_size=0.3, random_state=80718)\n",
    "\n",
    "y_train, y_test = y_train.reshape(-1, 1), y_test.reshape(-1, 1)"
   ]
  },
  {
   "cell_type": "code",
   "execution_count": 6,
   "metadata": {},
   "outputs": [],
   "source": [
    "TEST_ALL = False"
   ]
  },
  {
   "cell_type": "markdown",
   "metadata": {},
   "source": [
    "## Neural network regression"
   ]
  },
  {
   "cell_type": "markdown",
   "metadata": {},
   "source": [
    "After a manual linear regression, the model can be extended to learn nonlinear relationships. The idea is, that we perform many linear regression, feed the results in a nonlinear activation function and perfom as the last step another linear regression to predict the outcome. "
   ]
  },
  {
   "cell_type": "markdown",
   "metadata": {},
   "source": [
    "Sigmoid is used as a nonlinear function. For more information, go the the activation function notebook. The advantage, and why it is used here, that the deriviative also can be expressed with the sigmoid function.\n",
    "\n",
    "$$ \\frac{\\partial \\sigma}{\\partial u} = \\sigma (x) * (1 - \\sigma (x)) $$"
   ]
  },
  {
   "cell_type": "code",
   "execution_count": 7,
   "metadata": {},
   "outputs": [],
   "source": [
    "def sigmoid(x: ndarray) -> ndarray:\n",
    "    return 1 / (1 + np.exp(-1.0 * x))"
   ]
  },
  {
   "cell_type": "code",
   "execution_count": 8,
   "metadata": {},
   "outputs": [],
   "source": [
    "Batch = Tuple[ndarray, ndarray]\n",
    "\n",
    "\n",
    "def permute_data(X: ndarray, y: ndarray):\n",
    "    \"\"\"\n",
    "    Permute X and y, using the same permutation, along axis=0\n",
    "    \"\"\"\n",
    "    perm = np.random.permutation(X.shape[0])\n",
    "    return X[perm], y[perm]\n",
    "\n",
    "\n",
    "def generate_batch(X: ndarray, \n",
    "                   y: ndarray,\n",
    "                   start: int = 0,\n",
    "                   batch_size: int = 10) -> Batch:\n",
    "    \"\"\"\n",
    "    Generate batch from X and y, given a start position\n",
    "    \"\"\"\n",
    "    assert X.ndim == y.ndim == 2, \\\n",
    "    \"X and Y must be 2 dimensional\"\n",
    "\n",
    "    if start+batch_size > X.shape[0]:\n",
    "        batch_size = X.shape[0] - start\n",
    "    \n",
    "    X_batch, y_batch = X[start:start+batch_size], y[start:start+batch_size]\n",
    "    \n",
    "    return X_batch, y_batch\n",
    "\n",
    "\n",
    "def mae(preds: ndarray, actuals: ndarray):\n",
    "    \"\"\"\n",
    "    Compute mean absolute error.\n",
    "    \"\"\"\n",
    "    return np.mean(np.abs(preds - actuals))\n",
    "\n",
    "\n",
    "def rmse(preds: ndarray, actuals: ndarray):\n",
    "    \"\"\"\n",
    "    Compute root mean squared error.\n",
    "    \"\"\"\n",
    "    return np.sqrt(np.mean(np.power(preds - actuals, 2)))"
   ]
  },
  {
   "cell_type": "code",
   "execution_count": 9,
   "metadata": {},
   "outputs": [],
   "source": [
    "def init_weights(input_size: int, \n",
    "                 hidden_size: int) -> Dict[str, ndarray]:\n",
    "    \"\"\"\n",
    "    Initialize weights during the forward pass for step-by-step neural network model.\n",
    "    \"\"\"\n",
    "    weights: Dict[str, ndarray] = {}\n",
    "    weights['W1'] = np.random.randn(input_size, hidden_size)\n",
    "    weights['B1'] = np.random.randn(1, hidden_size)\n",
    "    weights['W2'] = np.random.randn(hidden_size, 1)\n",
    "    weights['B2'] = np.random.randn(1, 1)\n",
    "    return weights"
   ]
  },
  {
   "cell_type": "markdown",
   "metadata": {},
   "source": [
    "## Forward pass"
   ]
  },
  {
   "cell_type": "markdown",
   "metadata": {},
   "source": [
    "This is the forward pass for the neural network. It consists of 2 layers (W1+B1, W2+b2) and is connected with a nonlinear activation function. It calculates the prediction P and returns the loss. "
   ]
  },
  {
   "cell_type": "code",
   "execution_count": 10,
   "metadata": {},
   "outputs": [],
   "source": [
    "def forward_loss(X: ndarray,\n",
    "                 y: ndarray,\n",
    "                 weights: Dict[str, ndarray]\n",
    "                 ) -> Tuple[Dict[str, ndarray], float]:\n",
    "    \"\"\"\n",
    "    Compute the forward pass and the loss for the step-by-step \n",
    "    neural network model.     \n",
    "    \"\"\"\n",
    "    # transform input features with weight matrix\n",
    "    M1 = np.dot(X, weights['W1'])\n",
    "\n",
    "    #add bias\n",
    "    N1 = M1 + weights['B1']\n",
    "\n",
    "    # activation function\n",
    "    O1 = sigmoid(N1)\n",
    "    \n",
    "    # repear previous steps\n",
    "    M2 = np.dot(O1, weights['W2'])\n",
    "\n",
    "    # prediction\n",
    "    P = M2 + weights['B2']    \n",
    "\n",
    "    loss = np.mean(np.power(y - P, 2))\n",
    "\n",
    "    forward_info: Dict[str, ndarray] = {}\n",
    "    forward_info['X'] = X\n",
    "    forward_info['M1'] = M1\n",
    "    forward_info['N1'] = N1\n",
    "    forward_info['O1'] = O1\n",
    "    forward_info['M2'] = M2\n",
    "    forward_info['P'] = P\n",
    "    forward_info['y'] = y\n",
    "\n",
    "    return forward_info, loss"
   ]
  },
  {
   "cell_type": "markdown",
   "metadata": {},
   "source": [
    "## Backward pass"
   ]
  },
  {
   "cell_type": "markdown",
   "metadata": {},
   "source": [
    "We compute the partial derivatives of each operation from the forward pass. Therefor we are tracing backward through the forward pass and  multiply  them to get the gradients of the loss with respect to each of the weights."
   ]
  },
  {
   "cell_type": "code",
   "execution_count": 11,
   "metadata": {},
   "outputs": [],
   "source": [
    "def loss_gradients(forward_info: Dict[str, ndarray], \n",
    "                   weights: Dict[str, ndarray]) -> Dict[str, ndarray]:\n",
    "    \"\"\"\n",
    "    Compute the partial derivatives of the loss with respect to each of the parameters in the neural network.\n",
    "    \"\"\"    \n",
    "\n",
    "    dLdP = -(forward_info['y'] - forward_info['P'])\n",
    "    dPdM2 = np.ones_like(forward_info['M2'])\n",
    "    dPdB2 = np.ones_like(weights['B2'])\n",
    "\n",
    "    dLdM2 = dLdP * dPdM2    \n",
    "\n",
    "    dM2dW2 = np.transpose(forward_info['O1'], (1, 0))    \n",
    "    dM2dO1 = np.transpose(weights['W2'], (1, 0)) \n",
    "\n",
    "    # gradients of the loos\n",
    "    dLdW2 = np.dot(dM2dW2, dLdP)\n",
    "    dLdB2 = (dLdP * dPdB2).sum(axis=0)\n",
    "    \n",
    "    dLdO1 = np.dot(dLdM2, dM2dO1)\n",
    "    \n",
    "    dO1dN1 = sigmoid(forward_info['N1']) * (1- sigmoid(forward_info['N1']))\n",
    "    \n",
    "    dN1dB1 = np.ones_like(weights['B1'])\n",
    "    dN1dM1 = np.ones_like(forward_info['M1'])\n",
    "    dM1dW1 = np.transpose(forward_info['X'], (1, 0)) \n",
    "\n",
    "    dLdN1 = dLdO1 * dO1dN1\n",
    "    dLdM1 = dLdN1 * dN1dM1\n",
    "    \n",
    "    # gradients of the loos\n",
    "    dLdW1 = np.dot(dM1dW1, dLdM1)\n",
    "    dLdB1 = (dLdN1 * dN1dB1).sum(axis=0)    \n",
    "\n",
    "    loss_gradients: Dict[str, ndarray] = {}\n",
    "    loss_gradients['W2'] = dLdW2\n",
    "    loss_gradients['B2'] = dLdB2.sum(axis=0)\n",
    "    loss_gradients['W1'] = dLdW1\n",
    "    loss_gradients['B1'] = dLdB1.sum(axis=0)\n",
    "    \n",
    "    return loss_gradients"
   ]
  },
  {
   "cell_type": "markdown",
   "metadata": {},
   "source": [
    "The dataset has 13 features. For simplicity, I choose here also 13 neurons for the hidden layer; 1 linear regression /neuron for each feature. \n",
    "\n",
    "Compared to the linear regressionthe weights dictionary has 4 keys instead of two. Even for more complex architectures , the mathematical principles and high-level training procedures stay thesame as in simple models."
   ]
  },
  {
   "cell_type": "code",
   "execution_count": 12,
   "metadata": {},
   "outputs": [],
   "source": [
    "def train(X_train: ndarray, y_train: ndarray,\n",
    "          X_test: ndarray, y_test: ndarray,\n",
    "          n_iter: int = 1000,\n",
    "          test_every: int = 1000,\n",
    "          learning_rate: float = 0.01,\n",
    "          hidden_size= 13,\n",
    "          batch_size: int = 100,\n",
    "          return_losses: bool = False, \n",
    "          return_weights: bool = False, \n",
    "          return_scores: bool = False,\n",
    "          seed: int = 1) -> None:\n",
    "\n",
    "    if seed:\n",
    "        np.random.seed(seed)\n",
    "\n",
    "    start = 0\n",
    "\n",
    "    # Initialize weights\n",
    "    weights = init_weights(X_train.shape[1], \n",
    "                           hidden_size=hidden_size)\n",
    "\n",
    "    # Permute data\n",
    "    X_train, y_train = permute_data(X_train, y_train)\n",
    "    \n",
    "\n",
    "    losses = []\n",
    "        \n",
    "    val_scores = []\n",
    "\n",
    "    for i in range(n_iter):\n",
    "\n",
    "        # Generate batch\n",
    "        if start >= X_train.shape[0]:\n",
    "            X_train, y_train = permute_data(X_train, y_train)\n",
    "            start = 0\n",
    "        \n",
    "        X_batch, y_batch = generate_batch(X_train, y_train, start, batch_size)\n",
    "        start += batch_size\n",
    "    \n",
    "        # Train net using generated batch\n",
    "        forward_info, loss = forward_loss(X_batch, y_batch, weights)\n",
    "\n",
    "        if return_losses:\n",
    "            losses.append(loss)\n",
    "\n",
    "        # update the gradients\n",
    "        loss_grads = loss_gradients(forward_info, weights)\n",
    "        for key in weights.keys():\n",
    "            weights[key] -= learning_rate * loss_grads[key]\n",
    "        \n",
    "        if return_scores:\n",
    "            if i % test_every == 0 and i != 0:\n",
    "                preds = predict(X_test, weights)\n",
    "                val_scores.append(r2_score(preds, y_test))\n",
    "\n",
    "    if return_weights:\n",
    "        return losses, weights, val_scores\n",
    "    \n",
    "    return None"
   ]
  },
  {
   "cell_type": "code",
   "execution_count": 13,
   "metadata": {},
   "outputs": [],
   "source": [
    "def predict(X: ndarray, \n",
    "            weights: Dict[str, ndarray]) -> ndarray:\n",
    "    '''\n",
    "    Generate predictions from the step-by-step neural network model. \n",
    "    '''\n",
    "    M1 = np.dot(X, weights['W1'])\n",
    "\n",
    "    N1 = M1 + weights['B1']\n",
    "\n",
    "    O1 = sigmoid(N1)\n",
    "\n",
    "    M2 = np.dot(O1, weights['W2'])\n",
    "\n",
    "    P = M2 + weights['B2']    \n",
    "\n",
    "    return P"
   ]
  },
  {
   "cell_type": "code",
   "execution_count": 14,
   "metadata": {},
   "outputs": [],
   "source": [
    "if TEST_ALL:\n",
    "    num_iter = 10000\n",
    "    test_every = 1000\n",
    "    train_info = train(X_train, y_train, X_test, y_test,\n",
    "                       n_iter=num_iter,\n",
    "                       test_every = test_every,\n",
    "                       learning_rate = 0.001,\n",
    "                       batch_size=23, \n",
    "                       return_losses=False, \n",
    "                       return_weights=True, \n",
    "                       return_scores=False,\n",
    "                       seed=80718)\n",
    "    losses = train_info[0]\n",
    "    weights = train_info[1]\n",
    "    val_scores = train_info[2]"
   ]
  },
  {
   "cell_type": "code",
   "execution_count": 15,
   "metadata": {},
   "outputs": [],
   "source": [
    "if TEST_ALL:\n",
    "    import matplotlib.pyplot as plt\n",
    "    %matplotlib inline\n",
    "    plt.ylim([-1,1])\n",
    "    plt.plot(list(range(int(num_iter / test_every - 1))), val_scores); \n",
    "    plt.xlabel(\"Batches (000s)\")\n",
    "    plt.title(\"Validation Scores\")"
   ]
  },
  {
   "cell_type": "markdown",
   "metadata": {},
   "source": [
    "## Learning rate tuning"
   ]
  },
  {
   "cell_type": "code",
   "execution_count": 16,
   "metadata": {},
   "outputs": [],
   "source": [
    "def r2_score_lr(learning_rate):\n",
    "    train_info = train(X_train, y_train, X_test, y_test,\n",
    "                   n_iter=100000,\n",
    "                   test_every = 100000,\n",
    "                   learning_rate = learning_rate,\n",
    "                   batch_size=23, \n",
    "                   return_losses=False, \n",
    "                   return_weights=True, \n",
    "                   return_scores=False,\n",
    "                   seed=80718)\n",
    "    weights = train_info[1]\n",
    "    preds = predict(X_test, weights)\n",
    "    return r2_score(y_test, preds)"
   ]
  },
  {
   "cell_type": "code",
   "execution_count": 17,
   "metadata": {},
   "outputs": [],
   "source": [
    "if TEST_ALL:\n",
    "    lrs = np.geomspace(1e-2, 1e-6, num=20)"
   ]
  },
  {
   "cell_type": "code",
   "execution_count": 18,
   "metadata": {},
   "outputs": [],
   "source": [
    "if TEST_ALL:\n",
    "    r2s = [r2_score_lr(lr) for lr in lrs]"
   ]
  },
  {
   "cell_type": "code",
   "execution_count": 19,
   "metadata": {},
   "outputs": [],
   "source": [
    "if TEST_ALL:\n",
    "    plt.semilogx(lrs, r2s)"
   ]
  },
  {
   "cell_type": "markdown",
   "metadata": {},
   "source": [
    "## Evaluating best model"
   ]
  },
  {
   "cell_type": "code",
   "execution_count": 20,
   "metadata": {},
   "outputs": [],
   "source": [
    "train_info = train(X_train, y_train, X_test, y_test,\n",
    "                   n_iter=10000,\n",
    "                   test_every = 1000,\n",
    "                   learning_rate = 0.001,\n",
    "                   batch_size=23, \n",
    "                   return_losses=True, \n",
    "                   return_weights=True, \n",
    "                   return_scores=False,\n",
    "                   seed=180807)\n",
    "losses = train_info[0]\n",
    "weights = train_info[1]"
   ]
  },
  {
   "cell_type": "code",
   "execution_count": 21,
   "metadata": {},
   "outputs": [
    {
     "data": {
      "text/plain": [
       "[<matplotlib.lines.Line2D at 0x7f9e097c96d0>]"
      ]
     },
     "execution_count": 21,
     "metadata": {},
     "output_type": "execute_result"
    },
    {
     "data": {
      "image/png": "[encoded data removed]",
      "text/plain": [
       "<Figure size 432x288 with 1 Axes>"
      ]
     },
     "metadata": {
      "needs_background": "light"
     },
     "output_type": "display_data"
    }
   ],
   "source": [
    "plt.plot(list(range(10000)), losses)"
   ]
  },
  {
   "cell_type": "code",
   "execution_count": 22,
   "metadata": {},
   "outputs": [],
   "source": [
    "preds = predict(X_test, weights)"
   ]
  },
  {
   "cell_type": "code",
   "execution_count": 23,
   "metadata": {},
   "outputs": [
    {
     "name": "stdout",
     "output_type": "stream",
     "text": [
      "Mean absolute error: 2.5951 \n",
      "Root mean squared error: 3.8851\n"
     ]
    }
   ],
   "source": [
    "print(\"Mean absolute error:\", round(mae(preds, y_test), 4), \"\\n\"\n",
    "      \"Root mean squared error:\", round(rmse(preds, y_test), 4))"
   ]
  },
  {
   "cell_type": "code",
   "execution_count": 24,
   "metadata": {},
   "outputs": [
    {
     "data": {
      "text/plain": [
       "[<matplotlib.lines.Line2D at 0x7f9e0a1c7a00>]"
      ]
     },
     "execution_count": 24,
     "metadata": {},
     "output_type": "execute_result"
    },
    {
     "data": {
      "image/png": "[encoded data removed]",
      "text/plain": [
       "<Figure size 432x288 with 1 Axes>"
      ]
     },
     "metadata": {
      "needs_background": "light"
     },
     "output_type": "display_data"
    }
   ],
   "source": [
    "plt.xlabel(\"Predicted value\")\n",
    "plt.ylabel(\"Target\")\n",
    "plt.title(\"Predicted value vs. target,\\n neural network regression\")\n",
    "plt.xlim([0, 51])\n",
    "plt.ylim([0, 51])\n",
    "plt.scatter(preds, y_test)\n",
    "plt.plot([0, 51], [0, 51])"
   ]
  },
  {
   "cell_type": "code",
   "execution_count": 25,
   "metadata": {},
   "outputs": [
    {
     "data": {
      "text/plain": [
       "2.5951"
      ]
     },
     "execution_count": 25,
     "metadata": {},
     "output_type": "execute_result"
    }
   ],
   "source": [
    "np.round(np.mean(np.array(np.abs(preds - y_test))), 4)"
   ]
  },
  {
   "cell_type": "code",
   "execution_count": 26,
   "metadata": {},
   "outputs": [
    {
     "data": {
      "text/plain": [
       "15.0943"
      ]
     },
     "execution_count": 26,
     "metadata": {},
     "output_type": "execute_result"
    }
   ],
   "source": [
    "np.round(np.mean(np.array(np.power(preds - y_test, 2))), 4)"
   ]
  },
  {
   "cell_type": "markdown",
   "metadata": {},
   "source": [
    "## Theoretical relationship between most important feature and target"
   ]
  },
  {
   "cell_type": "code",
   "execution_count": 27,
   "metadata": {},
   "outputs": [],
   "source": [
    "NUM = 40\n",
    "a = np.repeat(X_test[:,:-1].mean(axis=0, keepdims=True), NUM, axis=0)\n",
    "b = np.linspace(-1.5, 3.5, NUM).reshape(NUM, 1)\n",
    "test_feature = np.concatenate([a, b], axis=1)\n",
    "preds_test = predict(test_feature, weights)[:, 0]"
   ]
  },
  {
   "cell_type": "code",
   "execution_count": 28,
   "metadata": {},
   "outputs": [
    {
     "data": {
      "text/plain": [
       "Text(0.5, 1.0, 'Most important feature vs. target and predictions,\\n neural network regression')"
      ]
     },
     "execution_count": 28,
     "metadata": {},
     "output_type": "execute_result"
    },
    {
     "data": {
      "image/png": "[encoded data removed]",
      "text/plain": [
       "<Figure size 432x288 with 1 Axes>"
      ]
     },
     "metadata": {
      "needs_background": "light"
     },
     "output_type": "display_data"
    }
   ],
   "source": [
    "plt.scatter(X_test[:, 12], preds)\n",
    "plt.plot(np.array(test_feature[:, -1]), preds_test, linewidth=2, c='orange')\n",
    "plt.ylim([6, 51])\n",
    "plt.xlabel(\"Most important feature (normalized)\")\n",
    "plt.ylabel(\"Target/Predictions\")\n",
    "plt.title(\"Most important feature vs. target and predictions,\\n neural network regression\")"
   ]
  },
  {
   "cell_type": "markdown",
   "metadata": {},
   "source": [
    "The model performs better than the linear regerssion. This is quite simple, since the model itself is not constraint to a linear relationship anymore as you see above.\n",
    "\n",
    "So the model learns nonlinear relationships and it also learns relationships between combinations of our original features and our target.  "
   ]
  },
  {
   "cell_type": "markdown",
   "metadata": {},
   "source": [
    "## Investigation of most important features"
   ]
  },
  {
   "cell_type": "markdown",
   "metadata": {},
   "source": [
    "Most important combinations of features are the two with absolute values of greater than 9"
   ]
  },
  {
   "cell_type": "code",
   "execution_count": 29,
   "metadata": {},
   "outputs": [
    {
     "data": {
      "text/plain": [
       "array([[  6.88181019],\n",
       "       [  7.39079869],\n",
       "       [  5.63204199],\n",
       "       [  7.23579823],\n",
       "       [  7.62525138],\n",
       "       [  6.75401976],\n",
       "       [  3.32508428],\n",
       "       [  9.72867071],\n",
       "       [  5.6010739 ],\n",
       "       [-10.24687493],\n",
       "       [  5.56446463],\n",
       "       [  5.6762053 ],\n",
       "       [ -4.40884115]])"
      ]
     },
     "execution_count": 29,
     "metadata": {},
     "output_type": "execute_result"
    }
   ],
   "source": [
    "weights['W2']"
   ]
  },
  {
   "cell_type": "markdown",
   "metadata": {},
   "source": [
    "These are at index 7 and index 9. Here are the combinations themselves:"
   ]
  },
  {
   "cell_type": "code",
   "execution_count": 30,
   "metadata": {},
   "outputs": [
    {
     "data": {
      "text/plain": [
       "array([-3.35318091e+00, -4.67745141e-01,  5.48100312e-01, -8.80425014e-02,\n",
       "        1.75362999e+00, -5.31114287e+00, -9.43127649e-01, -5.87300786e-01,\n",
       "       -1.23411490e-03,  1.13747060e+00, -5.28009349e-01,  1.15916033e+00,\n",
       "        1.60070328e+00])"
      ]
     },
     "execution_count": 30,
     "metadata": {},
     "output_type": "execute_result"
    }
   ],
   "source": [
    "weights['W1'][7]"
   ]
  },
  {
   "cell_type": "code",
   "execution_count": 31,
   "metadata": {},
   "outputs": [
    {
     "data": {
      "text/plain": [
       "array([-2.6785258 ,  3.92130586,  2.23977236, -3.63226802, -0.22408348,\n",
       "        3.18889016,  0.3231029 ,  0.43162245, -1.97327924,  0.24029253,\n",
       "       -1.44634709, -0.50844719,  1.55610834])"
      ]
     },
     "execution_count": 31,
     "metadata": {},
     "output_type": "execute_result"
    }
   ],
   "source": [
    "weights['W1'][9]"
   ]
  }
 ],
 "metadata": {
  "kernelspec": {
   "display_name": "Python 3",
   "language": "python",
   "name": "python3"
  },
  "language_info": {
   "codemirror_mode": {
    "name": "ipython",
    "version": 3
   },
   "file_extension": ".py",
   "mimetype": "text/x-python",
   "name": "python",
   "nbconvert_exporter": "python",
   "pygments_lexer": "ipython3",
   "version": "3.8.3"
  }
 },
 "nbformat": 4,
 "nbformat_minor": 2
}
