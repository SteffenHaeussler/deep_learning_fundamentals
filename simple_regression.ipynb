{
 "cells": [
  {
   "cell_type": "code",
   "execution_count": 1,
   "metadata": {},
   "outputs": [],
   "source": [
    "%matplotlib inline\n",
    "\n",
    "import numpy as np\n",
    "from numpy import ndarray\n",
    "import matplotlib.pyplot as plt\n",
    "\n",
    "from typing import Callable, Dict, Tuple, List, Optional"
   ]
  },
  {
   "cell_type": "code",
   "execution_count": 2,
   "metadata": {},
   "outputs": [],
   "source": [
    "from sklearn.datasets import load_boston\n",
    "\n",
    "from sklearn.metrics import mean_squared_error\n",
    "from sklearn.model_selection import train_test_split\n",
    "from sklearn.preprocessing import StandardScaler\n",
    "import sklearn.utils as utils"
   ]
  },
  {
   "cell_type": "code",
   "execution_count": 3,
   "metadata": {},
   "outputs": [],
   "source": [
    "boston = load_boston()\n",
    "data = boston.data\n",
    "target = boston.target\n",
    "features = boston.feature_names"
   ]
  },
  {
   "cell_type": "code",
   "execution_count": 4,
   "metadata": {},
   "outputs": [],
   "source": [
    "s = StandardScaler()\n",
    "data = s.fit_transform(data)"
   ]
  },
  {
   "cell_type": "code",
   "execution_count": 5,
   "metadata": {},
   "outputs": [],
   "source": [
    "X_train, X_test, y_train, y_test = train_test_split(data, target, test_size=0.3, random_state=80718)\n",
    "\n",
    "y_train, y_test = y_train.reshape(-1, 1), y_test.reshape(-1, 1)"
   ]
  },
  {
   "cell_type": "code",
   "execution_count": null,
   "metadata": {},
   "outputs": [],
   "source": []
  },
  {
   "cell_type": "markdown",
   "metadata": {},
   "source": [
    "\n",
    "## Keras"
   ]
  },
  {
   "cell_type": "code",
   "execution_count": 6,
   "metadata": {},
   "outputs": [],
   "source": [
    "from keras.models import Sequential\n",
    "from keras.layers import Dense\n",
    "\n",
    "from keras.callbacks import ModelCheckpoint, Callback, EarlyStopping"
   ]
  },
  {
   "cell_type": "code",
   "execution_count": 7,
   "metadata": {},
   "outputs": [],
   "source": [
    "# create model\n",
    "model = Sequential()\n",
    "model.add(Dense(13, input_dim=13, kernel_initializer='normal', activation='tanh'))\n",
    "model.add(Dense(1, kernel_initializer='normal'))\n",
    "# Compile model\n",
    "model.compile(loss='mean_squared_error', optimizer='sgd', metrics=['mse'])"
   ]
  },
  {
   "cell_type": "code",
   "execution_count": 8,
   "metadata": {},
   "outputs": [],
   "source": [
    "# checkpoint = ModelCheckpoint(\"model.h5\", monitor='val_loss', verbose=1, save_best_only=True, mode='min')\n",
    "\n",
    "# early_stop = EarlyStopping(monitor='val_loss',\n",
    "#                               min_delta=0,\n",
    "#                               patience=2,\n",
    "#                               verbose=0, mode='auto')"
   ]
  },
  {
   "cell_type": "code",
   "execution_count": 9,
   "metadata": {},
   "outputs": [
    {
     "name": "stdout",
     "output_type": "stream",
     "text": [
      "Model: \"sequential\"\n",
      "_________________________________________________________________\n",
      "Layer (type)                 Output Shape              Param #   \n",
      "=================================================================\n",
      "dense (Dense)                (None, 13)                182       \n",
      "_________________________________________________________________\n",
      "dense_1 (Dense)              (None, 1)                 14        \n",
      "=================================================================\n",
      "Total params: 196\n",
      "Trainable params: 196\n",
      "Non-trainable params: 0\n",
      "_________________________________________________________________\n"
     ]
    }
   ],
   "source": [
    "model.summary()"
   ]
  },
  {
   "cell_type": "code",
   "execution_count": 10,
   "metadata": {},
   "outputs": [
    {
     "name": "stdout",
     "output_type": "stream",
     "text": [
      "Epoch 1/100\n",
      "16/16 [==============================] - 0s 1ms/step - loss: 346.3387 - mse: 346.3387\n",
      "Epoch 2/100\n",
      "16/16 [==============================] - 0s 2ms/step - loss: 47.9897 - mse: 47.9897\n",
      "Epoch 3/100\n",
      "16/16 [==============================] - 0s 2ms/step - loss: 34.7853 - mse: 34.7853\n",
      "Epoch 4/100\n",
      "16/16 [==============================] - 0s 3ms/step - loss: 30.4354 - mse: 30.4354\n",
      "Epoch 5/100\n",
      "16/16 [==============================] - 0s 2ms/step - loss: 26.1046 - mse: 26.1046\n",
      "Epoch 6/100\n",
      "16/16 [==============================] - 0s 2ms/step - loss: 23.4968 - mse: 23.4968\n",
      "Epoch 7/100\n",
      "16/16 [==============================] - 0s 2ms/step - loss: 20.6812 - mse: 20.6812\n",
      "Epoch 8/100\n",
      "16/16 [==============================] - 0s 1ms/step - loss: 18.3333 - mse: 18.3333\n",
      "Epoch 9/100\n",
      "16/16 [==============================] - 0s 2ms/step - loss: 15.9752 - mse: 15.9752\n",
      "Epoch 10/100\n",
      "16/16 [==============================] - 0s 5ms/step - loss: 19.0503 - mse: 19.0503\n",
      "Epoch 11/100\n",
      "16/16 [==============================] - 0s 2ms/step - loss: 14.7993 - mse: 14.7993\n",
      "Epoch 12/100\n",
      "16/16 [==============================] - 0s 3ms/step - loss: 14.6512 - mse: 14.6512\n",
      "Epoch 13/100\n",
      "16/16 [==============================] - 0s 3ms/step - loss: 14.2012 - mse: 14.2012\n",
      "Epoch 14/100\n",
      "16/16 [==============================] - 0s 3ms/step - loss: 12.6787 - mse: 12.6787\n",
      "Epoch 15/100\n",
      "16/16 [==============================] - 0s 2ms/step - loss: 13.5998 - mse: 13.5998\n",
      "Epoch 16/100\n",
      "16/16 [==============================] - 0s 2ms/step - loss: 12.1833 - mse: 12.1833\n",
      "Epoch 17/100\n",
      "16/16 [==============================] - 0s 3ms/step - loss: 11.9278 - mse: 11.9278\n",
      "Epoch 18/100\n",
      "16/16 [==============================] - 0s 4ms/step - loss: 11.3577 - mse: 11.3577\n",
      "Epoch 19/100\n",
      "16/16 [==============================] - 0s 3ms/step - loss: 10.7390 - mse: 10.7390\n",
      "Epoch 20/100\n",
      "16/16 [==============================] - 0s 3ms/step - loss: 10.9523 - mse: 10.9523\n",
      "Epoch 21/100\n",
      "16/16 [==============================] - 0s 2ms/step - loss: 10.7910 - mse: 10.7910\n",
      "Epoch 22/100\n",
      "16/16 [==============================] - 0s 2ms/step - loss: 10.5686 - mse: 10.5686\n",
      "Epoch 23/100\n",
      "16/16 [==============================] - 0s 4ms/step - loss: 10.0749 - mse: 10.0749\n",
      "Epoch 24/100\n",
      "16/16 [==============================] - 0s 2ms/step - loss: 10.1288 - mse: 10.1288\n",
      "Epoch 25/100\n",
      "16/16 [==============================] - 0s 2ms/step - loss: 9.7502 - mse: 9.7502\n",
      "Epoch 26/100\n",
      "16/16 [==============================] - 0s 2ms/step - loss: 9.2200 - mse: 9.2200\n",
      "Epoch 27/100\n",
      "16/16 [==============================] - 0s 2ms/step - loss: 9.4411 - mse: 9.4411\n",
      "Epoch 28/100\n",
      "16/16 [==============================] - 0s 2ms/step - loss: 8.9343 - mse: 8.9343\n",
      "Epoch 29/100\n",
      "16/16 [==============================] - 0s 2ms/step - loss: 9.1510 - mse: 9.1510\n",
      "Epoch 30/100\n",
      "16/16 [==============================] - 0s 2ms/step - loss: 8.9547 - mse: 8.9547\n",
      "Epoch 31/100\n",
      "16/16 [==============================] - 0s 2ms/step - loss: 8.9265 - mse: 8.9265\n",
      "Epoch 32/100\n",
      "16/16 [==============================] - 0s 2ms/step - loss: 9.3340 - mse: 9.3340\n",
      "Epoch 33/100\n",
      "16/16 [==============================] - 0s 2ms/step - loss: 8.9433 - mse: 8.9433\n",
      "Epoch 34/100\n",
      "16/16 [==============================] - 0s 2ms/step - loss: 9.0333 - mse: 9.0333\n",
      "Epoch 35/100\n",
      "16/16 [==============================] - 0s 3ms/step - loss: 8.5511 - mse: 8.5511\n",
      "Epoch 36/100\n",
      "16/16 [==============================] - 0s 2ms/step - loss: 7.8393 - mse: 7.8393\n",
      "Epoch 37/100\n",
      "16/16 [==============================] - 0s 2ms/step - loss: 8.4334 - mse: 8.4334\n",
      "Epoch 38/100\n",
      "16/16 [==============================] - 0s 3ms/step - loss: 8.1919 - mse: 8.1919\n",
      "Epoch 39/100\n",
      "16/16 [==============================] - 0s 2ms/step - loss: 8.1626 - mse: 8.1626\n",
      "Epoch 40/100\n",
      "16/16 [==============================] - 0s 3ms/step - loss: 7.6483 - mse: 7.6483\n",
      "Epoch 41/100\n",
      "16/16 [==============================] - 0s 2ms/step - loss: 7.7981 - mse: 7.7981\n",
      "Epoch 42/100\n",
      "16/16 [==============================] - 0s 2ms/step - loss: 7.6237 - mse: 7.6237\n",
      "Epoch 43/100\n",
      "16/16 [==============================] - 0s 3ms/step - loss: 7.8982 - mse: 7.8982\n",
      "Epoch 44/100\n",
      "16/16 [==============================] - 0s 2ms/step - loss: 8.5071 - mse: 8.5071\n",
      "Epoch 45/100\n",
      "16/16 [==============================] - 0s 2ms/step - loss: 7.4038 - mse: 7.4038\n",
      "Epoch 46/100\n",
      "16/16 [==============================] - 0s 3ms/step - loss: 7.0405 - mse: 7.0405\n",
      "Epoch 47/100\n",
      "16/16 [==============================] - 0s 3ms/step - loss: 7.3928 - mse: 7.3928\n",
      "Epoch 48/100\n",
      "16/16 [==============================] - 0s 2ms/step - loss: 7.2313 - mse: 7.2313\n",
      "Epoch 49/100\n",
      "16/16 [==============================] - 0s 2ms/step - loss: 7.2865 - mse: 7.2865\n",
      "Epoch 50/100\n",
      "16/16 [==============================] - 0s 2ms/step - loss: 7.8812 - mse: 7.8812\n",
      "Epoch 51/100\n",
      "16/16 [==============================] - 0s 2ms/step - loss: 6.8230 - mse: 6.8230\n",
      "Epoch 52/100\n",
      "16/16 [==============================] - 0s 2ms/step - loss: 7.3774 - mse: 7.3774\n",
      "Epoch 53/100\n",
      "16/16 [==============================] - 0s 2ms/step - loss: 6.7748 - mse: 6.7748\n",
      "Epoch 54/100\n",
      "16/16 [==============================] - 0s 2ms/step - loss: 6.6503 - mse: 6.6503\n",
      "Epoch 55/100\n",
      "16/16 [==============================] - 0s 2ms/step - loss: 7.0017 - mse: 7.0017\n",
      "Epoch 56/100\n",
      "16/16 [==============================] - 0s 2ms/step - loss: 6.5642 - mse: 6.5642\n",
      "Epoch 57/100\n",
      "16/16 [==============================] - 0s 1ms/step - loss: 7.0381 - mse: 7.0381\n",
      "Epoch 58/100\n",
      "16/16 [==============================] - 0s 2ms/step - loss: 6.8101 - mse: 6.8101\n",
      "Epoch 59/100\n",
      "16/16 [==============================] - 0s 2ms/step - loss: 6.9139 - mse: 6.9139\n",
      "Epoch 60/100\n",
      "16/16 [==============================] - 0s 2ms/step - loss: 6.7425 - mse: 6.7425\n",
      "Epoch 61/100\n",
      "16/16 [==============================] - 0s 1ms/step - loss: 6.3569 - mse: 6.3569\n",
      "Epoch 62/100\n",
      "16/16 [==============================] - 0s 2ms/step - loss: 6.4007 - mse: 6.4007\n",
      "Epoch 63/100\n",
      "16/16 [==============================] - 0s 2ms/step - loss: 6.8201 - mse: 6.8201\n",
      "Epoch 64/100\n",
      "16/16 [==============================] - 0s 2ms/step - loss: 6.7058 - mse: 6.7058\n",
      "Epoch 65/100\n",
      "16/16 [==============================] - 0s 1ms/step - loss: 6.1239 - mse: 6.1239\n",
      "Epoch 66/100\n",
      "16/16 [==============================] - 0s 2ms/step - loss: 6.4858 - mse: 6.4858\n",
      "Epoch 67/100\n",
      "16/16 [==============================] - 0s 2ms/step - loss: 6.1858 - mse: 6.1858\n",
      "Epoch 68/100\n",
      "16/16 [==============================] - 0s 2ms/step - loss: 5.9185 - mse: 5.9185\n",
      "Epoch 69/100\n",
      "16/16 [==============================] - 0s 2ms/step - loss: 6.7033 - mse: 6.7033\n",
      "Epoch 70/100\n",
      "16/16 [==============================] - 0s 2ms/step - loss: 6.2478 - mse: 6.2478\n",
      "Epoch 71/100\n",
      "16/16 [==============================] - 0s 1ms/step - loss: 6.1074 - mse: 6.1074\n",
      "Epoch 72/100\n",
      "16/16 [==============================] - 0s 2ms/step - loss: 6.1983 - mse: 6.1983\n",
      "Epoch 73/100\n",
      "16/16 [==============================] - 0s 2ms/step - loss: 5.9450 - mse: 5.9450\n",
      "Epoch 74/100\n",
      "16/16 [==============================] - 0s 2ms/step - loss: 6.6074 - mse: 6.6074\n",
      "Epoch 75/100\n",
      "16/16 [==============================] - 0s 2ms/step - loss: 5.8944 - mse: 5.8944\n",
      "Epoch 76/100\n",
      "16/16 [==============================] - 0s 1ms/step - loss: 5.9087 - mse: 5.9087\n",
      "Epoch 77/100\n",
      "16/16 [==============================] - 0s 2ms/step - loss: 5.9176 - mse: 5.9176\n",
      "Epoch 78/100\n",
      "16/16 [==============================] - 0s 2ms/step - loss: 5.8085 - mse: 5.8085\n",
      "Epoch 79/100\n",
      "16/16 [==============================] - 0s 2ms/step - loss: 6.0787 - mse: 6.0787\n",
      "Epoch 80/100\n",
      "16/16 [==============================] - 0s 2ms/step - loss: 5.8765 - mse: 5.8765\n",
      "Epoch 81/100\n",
      "16/16 [==============================] - 0s 2ms/step - loss: 5.8643 - mse: 5.8643\n",
      "Epoch 82/100\n",
      "16/16 [==============================] - 0s 2ms/step - loss: 5.5639 - mse: 5.5639\n",
      "Epoch 83/100\n",
      "16/16 [==============================] - 0s 1ms/step - loss: 5.7403 - mse: 5.7403\n",
      "Epoch 84/100\n",
      "16/16 [==============================] - 0s 2ms/step - loss: 5.9083 - mse: 5.9083\n",
      "Epoch 85/100\n",
      "16/16 [==============================] - 0s 2ms/step - loss: 5.7746 - mse: 5.7746\n",
      "Epoch 86/100\n"
     ]
    },
    {
     "name": "stdout",
     "output_type": "stream",
     "text": [
      "16/16 [==============================] - 0s 1ms/step - loss: 5.3954 - mse: 5.3954\n",
      "Epoch 87/100\n",
      "16/16 [==============================] - 0s 1ms/step - loss: 5.9502 - mse: 5.9502\n",
      "Epoch 88/100\n",
      "16/16 [==============================] - 0s 1ms/step - loss: 5.6581 - mse: 5.6581\n",
      "Epoch 89/100\n",
      "16/16 [==============================] - 0s 2ms/step - loss: 5.5753 - mse: 5.5753\n",
      "Epoch 90/100\n",
      "16/16 [==============================] - 0s 2ms/step - loss: 5.4797 - mse: 5.4797\n",
      "Epoch 91/100\n",
      "16/16 [==============================] - 0s 1ms/step - loss: 6.1258 - mse: 6.1258\n",
      "Epoch 92/100\n",
      "16/16 [==============================] - 0s 1ms/step - loss: 5.7393 - mse: 5.7393\n",
      "Epoch 93/100\n",
      "16/16 [==============================] - 0s 1ms/step - loss: 5.4816 - mse: 5.4816\n",
      "Epoch 94/100\n",
      "16/16 [==============================] - 0s 2ms/step - loss: 5.6975 - mse: 5.6975\n",
      "Epoch 95/100\n",
      "16/16 [==============================] - 0s 2ms/step - loss: 5.3912 - mse: 5.3912\n",
      "Epoch 96/100\n",
      "16/16 [==============================] - 0s 1ms/step - loss: 5.3406 - mse: 5.3406\n",
      "Epoch 97/100\n",
      "16/16 [==============================] - 0s 1ms/step - loss: 5.4060 - mse: 5.4060\n",
      "Epoch 98/100\n",
      "16/16 [==============================] - 0s 2ms/step - loss: 5.4943 - mse: 5.4943\n",
      "Epoch 99/100\n",
      "16/16 [==============================] - 0s 1ms/step - loss: 5.2692 - mse: 5.2692\n",
      "Epoch 100/100\n",
      "16/16 [==============================] - 0s 2ms/step - loss: 5.3357 - mse: 5.3357\n"
     ]
    },
    {
     "data": {
      "text/plain": [
       "<tensorflow.python.keras.callbacks.History at 0x7fedacdf76a0>"
      ]
     },
     "execution_count": 10,
     "metadata": {},
     "output_type": "execute_result"
    }
   ],
   "source": [
    "model.fit(X_train,y_train, batch_size=23, epochs=100, verbose=1)"
   ]
  },
  {
   "cell_type": "code",
   "execution_count": 11,
   "metadata": {},
   "outputs": [],
   "source": [
    "test_pred = model.predict(X_test)\n",
    "test_actual = y_test"
   ]
  },
  {
   "cell_type": "code",
   "execution_count": 12,
   "metadata": {},
   "outputs": [
    {
     "data": {
      "text/plain": [
       "13.150872037106064"
      ]
     },
     "execution_count": 12,
     "metadata": {},
     "output_type": "execute_result"
    }
   ],
   "source": [
    "mean_squared_error(test_pred, test_actual)"
   ]
  },
  {
   "cell_type": "code",
   "execution_count": 13,
   "metadata": {},
   "outputs": [
    {
     "data": {
      "text/plain": [
       "<matplotlib.collections.PathCollection at 0x7fedad467640>"
      ]
     },
     "execution_count": 13,
     "metadata": {},
     "output_type": "execute_result"
    },
    {
     "data": {
      "image/png": "[encoded data removed]",
      "text/plain": [
       "<Figure size 432x288 with 1 Axes>"
      ]
     },
     "metadata": {
      "needs_background": "light"
     },
     "output_type": "display_data"
    }
   ],
   "source": [
    "plt.scatter(test_pred, test_actual)"
   ]
  },
  {
   "cell_type": "markdown",
   "metadata": {},
   "source": [
    "## PyTorch"
   ]
  },
  {
   "cell_type": "code",
   "execution_count": 14,
   "metadata": {},
   "outputs": [],
   "source": [
    "import torch\n",
    "import torch.nn as nn\n",
    "from torch import Tensor\n",
    "import torch.nn.functional as F\n",
    "from torch.autograd import Variable\n",
    "from torch.optim import Optimizer\n",
    "from torch.optim import lr_scheduler\n",
    "from torch.nn.modules.loss import _Loss\n",
    "from torch.utils.data import DataLoader"
   ]
  },
  {
   "cell_type": "code",
   "execution_count": 15,
   "metadata": {},
   "outputs": [],
   "source": [
    "class PyTorchTrainer(object):\n",
    "    def __init__(self,\n",
    "                 model,\n",
    "                 optim: Optimizer,\n",
    "                 criterion: _Loss):\n",
    "        self.model = model\n",
    "        self.optim = optim\n",
    "        self.loss = criterion\n",
    "        self._check_optim_net_aligned()\n",
    "\n",
    "    def _check_optim_net_aligned(self):\n",
    "        assert self.optim.param_groups[0]['params']\\\n",
    "            == list(self.model.parameters())\n",
    "\n",
    "    def _generate_batches(self,\n",
    "                          X: Tensor,\n",
    "                          y: Tensor,\n",
    "                          size: int = 32) -> Tuple[Tensor]:\n",
    "\n",
    "        N = X.shape[0]\n",
    "\n",
    "        for ii in range(0, N, size):\n",
    "            X_batch, y_batch = X[ii:ii+size], y[ii:ii+size]\n",
    "\n",
    "            yield X_batch, y_batch\n",
    "\n",
    "    def _permute_data(self, X: Tensor, y: Tensor, seed=1) -> Tuple[Tensor]:\n",
    "        perm = torch.randperm(X.shape[0])\n",
    "        return X[perm], y[perm]\n",
    "\n",
    "    def fit(self, X_train: Tensor = None,\n",
    "            y_train: Tensor = None,\n",
    "            X_test: Tensor = None,\n",
    "            y_test: Tensor = None,\n",
    "            train_dataloader: DataLoader = None,\n",
    "            test_dataloader: DataLoader = None,\n",
    "            epochs: int=100,\n",
    "            eval_every: int=10,\n",
    "            batch_size: int=32,\n",
    "            final_lr_exp: int = None):\n",
    "\n",
    "        init_lr = self.optim.param_groups[0]['lr']\n",
    "        if final_lr_exp:\n",
    "            decay = (final_lr_exp / init_lr) ** (1.0 / (epochs + 1))\n",
    "            scheduler = lr_scheduler.ExponentialLR(self.optim, gamma=decay)\n",
    "        for e in range(epochs):\n",
    "\n",
    "            if final_lr_exp:\n",
    "                scheduler.step()\n",
    "\n",
    "            if not train_dataloader:\n",
    "                X_train, y_train = self._permute_data(X_train, y_train)\n",
    "\n",
    "                batch_generator = self._generate_batches(X_train, y_train,\n",
    "                                                         batch_size)\n",
    "\n",
    "                self.model.train()\n",
    "\n",
    "                for ii, (X_batch, y_batch) in enumerate(batch_generator):\n",
    "\n",
    "                    self.optim.zero_grad()   # zero the gradient buffers\n",
    "\n",
    "                    output = self.model(X_batch)[0]\n",
    "\n",
    "                    loss = self.loss(output, y_batch)\n",
    "                    loss.backward()\n",
    "                    self.optim.step()\n",
    "\n",
    "                if e % eval_every == 0:\n",
    "                    with torch.no_grad():\n",
    "                        self.model.eval()\n",
    "                        output = self.model(X_test)[0]\n",
    "                        loss = self.loss(output, y_test)\n",
    "                        print(\"The loss after\", e+1, \"epochs was\", loss.item())\n",
    "\n",
    "            else:\n",
    "                for X_batch, y_batch in train_dataloader:\n",
    "\n",
    "                    self.optim.zero_grad()\n",
    "\n",
    "                    output = self.model(X_batch)[0]\n",
    "\n",
    "                    loss = self.loss(output, y_batch)\n",
    "                    loss.backward()\n",
    "                    self.optim.step()\n",
    "\n",
    "                if e % eval_every == 0:\n",
    "                    with torch.no_grad():\n",
    "                        self.model.eval()\n",
    "                        losses = []\n",
    "                        for X_batch, y_batch in test_dataloader:\n",
    "                            output = self.model(X_batch)[0]\n",
    "                            loss = self.loss(output, y_batch)\n",
    "                            losses.append(loss.item())\n",
    "                        print(\"The loss after\", e, \"epochs was\",\n",
    "                              round(torch.Tensor(losses).mean().item(), 4))"
   ]
  },
  {
   "cell_type": "code",
   "execution_count": 16,
   "metadata": {},
   "outputs": [],
   "source": [
    "class PyTorchLayer(nn.Module):\n",
    "\n",
    "    def __init__(self) -> None:\n",
    "        super().__init__()\n",
    "\n",
    "    def forward(self, x: Tensor,\n",
    "                inference: bool = False) -> Tensor:\n",
    "        raise NotImplementedError()\n",
    "        \n",
    "        \n",
    "class PyTorchModel(nn.Module):\n",
    "\n",
    "    def __init__(self) -> None:\n",
    "        super().__init__()\n",
    "\n",
    "    def forward(self, x: Tensor) -> Tuple[Tensor]:\n",
    "        raise NotImplementedError()\n",
    "        \n",
    "        \n",
    "def assert_dim(t: Tensor,\n",
    "               dim: Tensor):\n",
    "    assert len(t.shape) == dim, \\\n",
    "        '''\n",
    "        Tensor expected to have dimension {0}, instead has dimension {1}\n",
    "        '''.format(dim, len(t.shape))\n",
    "    return None"
   ]
  },
  {
   "cell_type": "code",
   "execution_count": 17,
   "metadata": {},
   "outputs": [],
   "source": [
    "def inference_mode(m: nn.Module):\n",
    "    m.eval()\n",
    "        \n",
    "        \n",
    "class DenseLayer(PyTorchLayer):\n",
    "    def __init__(self,\n",
    "                 input_size: int,\n",
    "                 neurons: int,\n",
    "                 dropout: float = 1.0,\n",
    "                 activation: nn.Module = None) -> None:\n",
    "\n",
    "        super().__init__()\n",
    "        self.linear = nn.Linear(input_size, neurons)\n",
    "        self.activation = activation\n",
    "        if dropout < 1.0:\n",
    "            self.dropout = nn.Dropout(1 - dropout)\n",
    "\n",
    "    def forward(self, x: Tensor,\n",
    "                inference: bool = False) -> Tensor:\n",
    "        if inference:\n",
    "            self.apply(inference_mode)\n",
    "\n",
    "        x = self.linear(x)  # does weight multiplication + bias\n",
    "        if self.activation:\n",
    "            x = self.activation(x)\n",
    "        if hasattr(self, \"dropout\"):\n",
    "            x = self.dropout(x)\n",
    "\n",
    "        return x"
   ]
  },
  {
   "cell_type": "code",
   "execution_count": 18,
   "metadata": {},
   "outputs": [],
   "source": [
    "class BostonModel(PyTorchModel):\n",
    "\n",
    "    def __init__(self,\n",
    "                 hidden_size: int = 13,\n",
    "                 hidden_dropout: float = 1.0):\n",
    "        super().__init__()\n",
    "        self.dense1 = DenseLayer(13, hidden_size, \n",
    "                                 activation=nn.Tanh(),\n",
    "                                 dropout = hidden_dropout)\n",
    "        self.dense2 = DenseLayer(hidden_size, 1)\n",
    "\n",
    "    def forward(self, x: Tensor,\n",
    "                inference: bool = False) -> Tensor:\n",
    "        \n",
    "        assert_dim(x, 2)\n",
    "        \n",
    "        assert x.shape[1] == 13\n",
    "\n",
    "        x = self.dense1(x, inference)\n",
    "        return self.dense2(x, inference),"
   ]
  },
  {
   "cell_type": "code",
   "execution_count": 19,
   "metadata": {},
   "outputs": [],
   "source": [
    "X_train, X_test, y_train, y_test = Tensor(X_train), Tensor(X_test), Tensor(y_train), Tensor(y_test)"
   ]
  },
  {
   "cell_type": "code",
   "execution_count": 20,
   "metadata": {},
   "outputs": [],
   "source": [
    "pytorch_boston_model = BostonModel(hidden_size=13, hidden_dropout=0.8)\n",
    "optimizer = torch.optim.SGD(pytorch_boston_model.parameters(), lr=0.001, momentum=0.9)\n",
    "\n",
    "criterion = nn.MSELoss()"
   ]
  },
  {
   "cell_type": "code",
   "execution_count": 21,
   "metadata": {},
   "outputs": [
    {
     "name": "stderr",
     "output_type": "stream",
     "text": [
      "/Users/steffen/miniconda3/envs/deep_learning/lib/python3.8/site-packages/torch/optim/lr_scheduler.py:118: UserWarning: Detected call of `lr_scheduler.step()` before `optimizer.step()`. In PyTorch 1.1.0 and later, you should call them in the opposite order: `optimizer.step()` before `lr_scheduler.step()`.  Failure to do this will result in PyTorch skipping the first value of the learning rate schedule. See more details at https://pytorch.org/docs/stable/optim.html#how-to-adjust-learning-rate\n",
      "  warnings.warn(\"Detected call of `lr_scheduler.step()` before `optimizer.step()`. \"\n"
     ]
    },
    {
     "name": "stdout",
     "output_type": "stream",
     "text": [
      "The loss after 1 epochs was 405.6063537597656\n",
      "The loss after 11 epochs was 27.64900016784668\n",
      "The loss after 21 epochs was 20.719297409057617\n",
      "The loss after 31 epochs was 23.351734161376953\n",
      "The loss after 41 epochs was 20.33896827697754\n",
      "The loss after 51 epochs was 19.70602035522461\n",
      "The loss after 61 epochs was 18.885042190551758\n",
      "The loss after 71 epochs was 15.947514533996582\n",
      "The loss after 81 epochs was 18.582767486572266\n",
      "The loss after 91 epochs was 16.953500747680664\n"
     ]
    }
   ],
   "source": [
    "trainer = PyTorchTrainer(pytorch_boston_model, optimizer, criterion)\n",
    "\n",
    "trainer.fit(X_train=X_train, \n",
    "            y_train=y_train, \n",
    "            X_test=X_test, \n",
    "            y_test=y_test,\n",
    "            epochs=100,\n",
    "            eval_every=10,\n",
    "            final_lr_exp = 0.001)"
   ]
  },
  {
   "cell_type": "code",
   "execution_count": 22,
   "metadata": {},
   "outputs": [
    {
     "data": {
      "text/plain": [
       "16.172704696655273"
      ]
     },
     "execution_count": 22,
     "metadata": {},
     "output_type": "execute_result"
    }
   ],
   "source": [
    "torch.mean(torch.pow(pytorch_boston_model(X_test, inference=True)[0] - y_test, 2)).item()"
   ]
  },
  {
   "cell_type": "code",
   "execution_count": 23,
   "metadata": {},
   "outputs": [],
   "source": [
    "test_pred = pytorch_boston_model(X_test)[0].view(-1)\n",
    "test_actual = y_test"
   ]
  },
  {
   "cell_type": "code",
   "execution_count": 24,
   "metadata": {},
   "outputs": [],
   "source": [
    "test_pred = test_pred.detach().numpy()\n",
    "test_actual = test_actual.detach().numpy()"
   ]
  },
  {
   "cell_type": "code",
   "execution_count": 25,
   "metadata": {},
   "outputs": [
    {
     "data": {
      "text/plain": [
       "<matplotlib.collections.PathCollection at 0x7fedaee43130>"
      ]
     },
     "execution_count": 25,
     "metadata": {},
     "output_type": "execute_result"
    },
    {
     "data": {
      "image/png": "[encoded data removed]",
      "text/plain": [
       "<Figure size 432x288 with 1 Axes>"
      ]
     },
     "metadata": {
      "needs_background": "light"
     },
     "output_type": "display_data"
    }
   ],
   "source": [
    "plt.scatter(test_pred, test_actual)"
   ]
  },
  {
   "cell_type": "markdown",
   "metadata": {},
   "source": [
    "## TensorFlow"
   ]
  },
  {
   "cell_type": "code",
   "execution_count": null,
   "metadata": {},
   "outputs": [],
   "source": []
  },
  {
   "cell_type": "code",
   "execution_count": null,
   "metadata": {},
   "outputs": [],
   "source": []
  },
  {
   "cell_type": "code",
   "execution_count": null,
   "metadata": {},
   "outputs": [],
   "source": []
  }
 ],
 "metadata": {
  "kernelspec": {
   "display_name": "Python 3",
   "language": "python",
   "name": "python3"
  },
  "language_info": {
   "codemirror_mode": {
    "name": "ipython",
    "version": 3
   },
   "file_extension": ".py",
   "mimetype": "text/x-python",
   "name": "python",
   "nbconvert_exporter": "python",
   "pygments_lexer": "ipython3",
   "version": "3.8.3"
  }
 },
 "nbformat": 4,
 "nbformat_minor": 4
}
