{
 "cells": [
  {
   "cell_type": "code",
   "execution_count": 15,
   "metadata": {},
   "outputs": [],
   "source": [
    "%matplotlib inline\n",
    "\n",
    "import pandas as pd\n",
    "import numpy as np\n",
    "from numpy import ndarray\n",
    "import matplotlib.pyplot as plt\n",
    "\n",
    "from typing import Callable, Dict, Tuple, List, Optional"
   ]
  },
  {
   "cell_type": "code",
   "execution_count": 2,
   "metadata": {},
   "outputs": [],
   "source": [
    "from sklearn.datasets import load_boston\n",
    "\n",
    "from sklearn.metrics import mean_squared_error\n",
    "from sklearn.model_selection import train_test_split\n",
    "from sklearn.preprocessing import StandardScaler\n",
    "import sklearn.utils as utils"
   ]
  },
  {
   "cell_type": "code",
   "execution_count": 3,
   "metadata": {},
   "outputs": [],
   "source": [
    "boston = load_boston()\n",
    "data = boston.data\n",
    "target = boston.target\n",
    "features = boston.feature_names"
   ]
  },
  {
   "cell_type": "code",
   "execution_count": 4,
   "metadata": {},
   "outputs": [],
   "source": [
    "s = StandardScaler()\n",
    "data = s.fit_transform(data)"
   ]
  },
  {
   "cell_type": "code",
   "execution_count": 5,
   "metadata": {},
   "outputs": [],
   "source": [
    "X_train, X_test, y_train, y_test = train_test_split(data, target, test_size=0.3, random_state=80718)\n",
    "\n",
    "y_train, y_test = y_train.reshape(-1, 1), y_test.reshape(-1, 1)"
   ]
  },
  {
   "cell_type": "markdown",
   "metadata": {},
   "source": [
    "\n",
    "## Keras"
   ]
  },
  {
   "cell_type": "code",
   "execution_count": 6,
   "metadata": {},
   "outputs": [],
   "source": [
    "import tensorflow as tf\n",
    "\n",
    "from tensorflow import keras\n",
    "from tensorflow.keras import layers"
   ]
  },
  {
   "cell_type": "code",
   "execution_count": 7,
   "metadata": {},
   "outputs": [],
   "source": [
    "import tensorflow_docs as tfdocs\n",
    "import tensorflow_docs.plots\n",
    "import tensorflow_docs.modeling"
   ]
  },
  {
   "cell_type": "code",
   "execution_count": 26,
   "metadata": {},
   "outputs": [],
   "source": [
    "def build_model():\n",
    "    model = keras.Sequential([\n",
    "    layers.Dense(13, activation='tanh', input_dim=13),\n",
    "    layers.Dense(1)\n",
    "    ])\n",
    "\n",
    "    optimizer = tf.keras.optimizers.SGD(0.001)\n",
    "\n",
    "    model.compile(loss='mse',\n",
    "                optimizer=optimizer,\n",
    "                metrics=['mae', 'mse'])\n",
    "    \n",
    "    return model"
   ]
  },
  {
   "cell_type": "code",
   "execution_count": 27,
   "metadata": {},
   "outputs": [],
   "source": [
    "model = build_model()"
   ]
  },
  {
   "cell_type": "code",
   "execution_count": 28,
   "metadata": {},
   "outputs": [],
   "source": [
    "# # create model\n",
    "# model = Sequential()\n",
    "# model.add(Dense(13, input_dim=13, kernel_initializer='normal', activation='tanh'))\n",
    "# model.add(Dense(1, kernel_initializer='normal'))\n",
    "# # Compile model\n",
    "# model.compile(loss='mean_squared_error', optimizer='sgd', metrics=['mse'])"
   ]
  },
  {
   "cell_type": "code",
   "execution_count": 29,
   "metadata": {},
   "outputs": [],
   "source": [
    "# checkpoint = ModelCheckpoint(\"model.h5\", monitor='val_loss', verbose=1, save_best_only=True, mode='min')\n",
    "\n",
    "early_stop = keras.callbacks.EarlyStopping(monitor='val_loss',\n",
    "                              min_delta=0,\n",
    "                              patience=4,\n",
    "                              verbose=0, mode='auto')"
   ]
  },
  {
   "cell_type": "code",
   "execution_count": 30,
   "metadata": {},
   "outputs": [
    {
     "name": "stdout",
     "output_type": "stream",
     "text": [
      "Model: \"sequential_1\"\n",
      "_________________________________________________________________\n",
      "Layer (type)                 Output Shape              Param #   \n",
      "=================================================================\n",
      "dense_2 (Dense)              (None, 13)                182       \n",
      "_________________________________________________________________\n",
      "dense_3 (Dense)              (None, 1)                 14        \n",
      "=================================================================\n",
      "Total params: 196\n",
      "Trainable params: 196\n",
      "Non-trainable params: 0\n",
      "_________________________________________________________________\n"
     ]
    }
   ],
   "source": [
    "model.summary()"
   ]
  },
  {
   "cell_type": "code",
   "execution_count": 31,
   "metadata": {},
   "outputs": [
    {
     "name": "stdout",
     "output_type": "stream",
     "text": [
      "Epoch 1/100\n",
      " 1/13 [=>............................] - ETA: 0s - loss: 505.8246 - mae: 21.7609 - mse: 505.8246\n",
      "Epoch: 0, loss:572.7696,  mae:22.1816,  mse:572.7696,  val_loss:574.6863,  val_mae:22.1980,  val_mse:574.6863,  \n",
      "13/13 [==============================] - 0s 10ms/step - loss: 572.7696 - mae: 22.1816 - mse: 572.7696 - val_loss: 574.6863 - val_mae: 22.1980 - val_mse: 574.6863\n",
      "Epoch 2/100\n",
      "13/13 [==============================] - 0s 6ms/step - loss: 512.2540 - mae: 21.0027 - mse: 512.2540 - val_loss: 512.7384 - val_mae: 20.9942 - val_mse: 512.7384\n",
      "Epoch 3/100\n",
      "13/13 [==============================] - 0s 5ms/step - loss: 444.2750 - mae: 19.5470 - mse: 444.2750 - val_loss: 439.4294 - val_mae: 19.3466 - val_mse: 439.4294\n",
      "Epoch 4/100\n",
      "13/13 [==============================] - 0s 6ms/step - loss: 366.8107 - mae: 17.5920 - mse: 366.8107 - val_loss: 352.4587 - val_mae: 17.0706 - val_mse: 352.4586\n",
      "Epoch 5/100\n",
      "13/13 [==============================] - 0s 4ms/step - loss: 283.7070 - mae: 15.1623 - mse: 283.7070 - val_loss: 265.8338 - val_mae: 14.4882 - val_mse: 265.8338\n",
      "Epoch 6/100\n",
      "13/13 [==============================] - 0s 5ms/step - loss: 205.9463 - mae: 12.4803 - mse: 205.9463 - val_loss: 193.9470 - val_mae: 11.7910 - val_mse: 193.9470\n",
      "Epoch 7/100\n",
      "13/13 [==============================] - 0s 5ms/step - loss: 147.7864 - mae: 9.9986 - mse: 147.7864 - val_loss: 140.5416 - val_mae: 9.4142 - val_mse: 140.5416\n",
      "Epoch 8/100\n",
      "13/13 [==============================] - 0s 4ms/step - loss: 106.8923 - mae: 7.8586 - mse: 106.8923 - val_loss: 107.9577 - val_mae: 7.7230 - val_mse: 107.9577\n",
      "Epoch 9/100\n",
      "13/13 [==============================] - 0s 5ms/step - loss: 81.0724 - mae: 6.2698 - mse: 81.0724 - val_loss: 87.1129 - val_mae: 6.4919 - val_mse: 87.1129\n",
      "Epoch 10/100\n",
      "13/13 [==============================] - 0s 5ms/step - loss: 65.7121 - mae: 5.2363 - mse: 65.7121 - val_loss: 74.3980 - val_mae: 5.7718 - val_mse: 74.3980\n",
      "Epoch 11/100\n",
      "13/13 [==============================] - 0s 12ms/step - loss: 56.1153 - mae: 4.6009 - mse: 56.1153 - val_loss: 65.6716 - val_mae: 5.3224 - val_mse: 65.6715\n",
      "Epoch 12/100\n",
      "13/13 [==============================] - 0s 6ms/step - loss: 49.8825 - mae: 4.2539 - mse: 49.8825 - val_loss: 60.0248 - val_mae: 5.0697 - val_mse: 60.0248\n",
      "Epoch 13/100\n",
      "13/13 [==============================] - 0s 8ms/step - loss: 45.8701 - mae: 4.0959 - mse: 45.8701 - val_loss: 56.2024 - val_mae: 4.9522 - val_mse: 56.2024\n",
      "Epoch 14/100\n",
      "13/13 [==============================] - 0s 18ms/step - loss: 43.1346 - mae: 4.0316 - mse: 43.1346 - val_loss: 53.8032 - val_mae: 4.8999 - val_mse: 53.8032\n",
      "Epoch 15/100\n",
      "13/13 [==============================] - 0s 5ms/step - loss: 41.2389 - mae: 3.9940 - mse: 41.2389 - val_loss: 51.6503 - val_mae: 4.8522 - val_mse: 51.6503\n",
      "Epoch 16/100\n",
      "13/13 [==============================] - 0s 4ms/step - loss: 39.8746 - mae: 3.9804 - mse: 39.8746 - val_loss: 49.6718 - val_mae: 4.8053 - val_mse: 49.6718\n",
      "Epoch 17/100\n",
      "13/13 [==============================] - 0s 6ms/step - loss: 38.5951 - mae: 3.9547 - mse: 38.5951 - val_loss: 48.1428 - val_mae: 4.7651 - val_mse: 48.1428\n",
      "Epoch 18/100\n",
      "13/13 [==============================] - 0s 6ms/step - loss: 37.5478 - mae: 3.9615 - mse: 37.5478 - val_loss: 46.9578 - val_mae: 4.7347 - val_mse: 46.9578\n",
      "Epoch 19/100\n",
      "13/13 [==============================] - 0s 7ms/step - loss: 36.6784 - mae: 3.9225 - mse: 36.6784 - val_loss: 44.9797 - val_mae: 4.6758 - val_mse: 44.9797\n",
      "Epoch 20/100\n",
      "13/13 [==============================] - 0s 6ms/step - loss: 35.8676 - mae: 3.9547 - mse: 35.8676 - val_loss: 44.8104 - val_mae: 4.6623 - val_mse: 44.8104\n",
      "Epoch 21/100\n",
      "13/13 [==============================] - 0s 5ms/step - loss: 35.1689 - mae: 3.8950 - mse: 35.1689 - val_loss: 43.4090 - val_mae: 4.5848 - val_mse: 43.4090\n",
      "Epoch 22/100\n",
      "13/13 [==============================] - 0s 4ms/step - loss: 34.5143 - mae: 3.8695 - mse: 34.5143 - val_loss: 42.4831 - val_mae: 4.5414 - val_mse: 42.4831\n",
      "Epoch 23/100\n",
      "13/13 [==============================] - 0s 4ms/step - loss: 33.6475 - mae: 3.8203 - mse: 33.6475 - val_loss: 41.3009 - val_mae: 4.4802 - val_mse: 41.3009\n",
      "Epoch 24/100\n",
      "13/13 [==============================] - 0s 6ms/step - loss: 33.0037 - mae: 3.7993 - mse: 33.0037 - val_loss: 41.1650 - val_mae: 4.4704 - val_mse: 41.1650\n",
      "Epoch 25/100\n",
      "13/13 [==============================] - 0s 6ms/step - loss: 32.4021 - mae: 3.7423 - mse: 32.4021 - val_loss: 39.7193 - val_mae: 4.3899 - val_mse: 39.7193\n",
      "Epoch 26/100\n",
      "13/13 [==============================] - 0s 9ms/step - loss: 31.7096 - mae: 3.7194 - mse: 31.7096 - val_loss: 39.0039 - val_mae: 4.3357 - val_mse: 39.0039\n",
      "Epoch 27/100\n",
      "13/13 [==============================] - 0s 7ms/step - loss: 31.1780 - mae: 3.6731 - mse: 31.1780 - val_loss: 38.4987 - val_mae: 4.3279 - val_mse: 38.4987\n",
      "Epoch 28/100\n",
      "13/13 [==============================] - 0s 5ms/step - loss: 30.5706 - mae: 3.6738 - mse: 30.5706 - val_loss: 37.5522 - val_mae: 4.2550 - val_mse: 37.5522\n",
      "Epoch 29/100\n",
      "13/13 [==============================] - 0s 5ms/step - loss: 29.8987 - mae: 3.6155 - mse: 29.8987 - val_loss: 36.6244 - val_mae: 4.2068 - val_mse: 36.6244\n",
      "Epoch 30/100\n",
      "13/13 [==============================] - 0s 6ms/step - loss: 29.3608 - mae: 3.5809 - mse: 29.3608 - val_loss: 36.0228 - val_mae: 4.1600 - val_mse: 36.0228\n",
      "Epoch 31/100\n",
      "13/13 [==============================] - 0s 14ms/step - loss: 28.8740 - mae: 3.5438 - mse: 28.8740 - val_loss: 35.6784 - val_mae: 4.1364 - val_mse: 35.6784\n",
      "Epoch 32/100\n",
      "13/13 [==============================] - 0s 4ms/step - loss: 28.3673 - mae: 3.4909 - mse: 28.3673 - val_loss: 34.8028 - val_mae: 4.0821 - val_mse: 34.8028\n",
      "Epoch 33/100\n",
      "13/13 [==============================] - 0s 5ms/step - loss: 27.8223 - mae: 3.4588 - mse: 27.8223 - val_loss: 33.9192 - val_mae: 4.0237 - val_mse: 33.9192\n",
      "Epoch 34/100\n",
      "13/13 [==============================] - 0s 6ms/step - loss: 27.3888 - mae: 3.4267 - mse: 27.3888 - val_loss: 33.6033 - val_mae: 4.0077 - val_mse: 33.6033\n",
      "Epoch 35/100\n",
      "13/13 [==============================] - 0s 7ms/step - loss: 26.9454 - mae: 3.3869 - mse: 26.9454 - val_loss: 32.7635 - val_mae: 3.9608 - val_mse: 32.7635\n",
      "Epoch 36/100\n",
      "13/13 [==============================] - 0s 6ms/step - loss: 26.5501 - mae: 3.3830 - mse: 26.5501 - val_loss: 32.3751 - val_mae: 3.9337 - val_mse: 32.3751\n",
      "Epoch 37/100\n",
      "13/13 [==============================] - 0s 6ms/step - loss: 26.0955 - mae: 3.3670 - mse: 26.0955 - val_loss: 31.4526 - val_mae: 3.8723 - val_mse: 31.4526\n",
      "Epoch 38/100\n",
      "13/13 [==============================] - 0s 5ms/step - loss: 25.8244 - mae: 3.3470 - mse: 25.8244 - val_loss: 31.3384 - val_mae: 3.8700 - val_mse: 31.3384\n",
      "Epoch 39/100\n",
      "13/13 [==============================] - 0s 5ms/step - loss: 25.2527 - mae: 3.3074 - mse: 25.2527 - val_loss: 31.0974 - val_mae: 3.8558 - val_mse: 31.0974\n",
      "Epoch 40/100\n",
      "13/13 [==============================] - 0s 5ms/step - loss: 24.9104 - mae: 3.2796 - mse: 24.9104 - val_loss: 30.1449 - val_mae: 3.7939 - val_mse: 30.1449\n",
      "Epoch 41/100\n",
      "13/13 [==============================] - 0s 5ms/step - loss: 24.6140 - mae: 3.2421 - mse: 24.6140 - val_loss: 29.2714 - val_mae: 3.7602 - val_mse: 29.2714\n",
      "Epoch 42/100\n",
      "13/13 [==============================] - 0s 5ms/step - loss: 24.4536 - mae: 3.2646 - mse: 24.4536 - val_loss: 29.0000 - val_mae: 3.7377 - val_mse: 29.0000\n",
      "Epoch 43/100\n",
      "13/13 [==============================] - 0s 4ms/step - loss: 23.9432 - mae: 3.1920 - mse: 23.9432 - val_loss: 28.9513 - val_mae: 3.7405 - val_mse: 28.9513\n",
      "Epoch 44/100\n",
      "13/13 [==============================] - 0s 4ms/step - loss: 23.5894 - mae: 3.1770 - mse: 23.5894 - val_loss: 28.6925 - val_mae: 3.7242 - val_mse: 28.6925\n",
      "Epoch 45/100\n",
      "13/13 [==============================] - 0s 5ms/step - loss: 23.2324 - mae: 3.1490 - mse: 23.2324 - val_loss: 28.0173 - val_mae: 3.6952 - val_mse: 28.0173\n",
      "Epoch 46/100\n",
      "13/13 [==============================] - 0s 5ms/step - loss: 22.9609 - mae: 3.1403 - mse: 22.9609 - val_loss: 27.9383 - val_mae: 3.6892 - val_mse: 27.9383\n",
      "Epoch 47/100\n",
      "13/13 [==============================] - 0s 7ms/step - loss: 22.6696 - mae: 3.1278 - mse: 22.6696 - val_loss: 27.4198 - val_mae: 3.6648 - val_mse: 27.4198\n",
      "Epoch 48/100\n"
     ]
    },
    {
     "name": "stdout",
     "output_type": "stream",
     "text": [
      "13/13 [==============================] - 0s 6ms/step - loss: 22.2984 - mae: 3.1217 - mse: 22.2984 - val_loss: 27.6062 - val_mae: 3.6903 - val_mse: 27.6062\n",
      "Epoch 49/100\n",
      "13/13 [==============================] - 0s 6ms/step - loss: 22.1037 - mae: 3.0932 - mse: 22.1037 - val_loss: 26.6202 - val_mae: 3.6222 - val_mse: 26.6202\n",
      "Epoch 50/100\n",
      "13/13 [==============================] - 0s 7ms/step - loss: 21.8083 - mae: 3.0701 - mse: 21.8083 - val_loss: 25.4886 - val_mae: 3.5636 - val_mse: 25.4886\n",
      "Epoch 51/100\n",
      "13/13 [==============================] - 0s 6ms/step - loss: 21.5747 - mae: 3.1029 - mse: 21.5747 - val_loss: 25.4269 - val_mae: 3.5722 - val_mse: 25.4269\n",
      "Epoch 52/100\n",
      "13/13 [==============================] - 0s 5ms/step - loss: 21.2441 - mae: 3.0695 - mse: 21.2441 - val_loss: 25.0293 - val_mae: 3.5478 - val_mse: 25.0293\n",
      "Epoch 53/100\n",
      "13/13 [==============================] - 0s 9ms/step - loss: 20.9868 - mae: 3.0552 - mse: 20.9868 - val_loss: 25.0556 - val_mae: 3.5474 - val_mse: 25.0556\n",
      "Epoch 54/100\n",
      "13/13 [==============================] - 0s 5ms/step - loss: 20.7617 - mae: 3.0314 - mse: 20.7617 - val_loss: 24.4923 - val_mae: 3.5075 - val_mse: 24.4923\n",
      "Epoch 55/100\n",
      "13/13 [==============================] - 0s 5ms/step - loss: 20.5399 - mae: 3.0106 - mse: 20.5399 - val_loss: 24.3749 - val_mae: 3.5097 - val_mse: 24.3749\n",
      "Epoch 56/100\n",
      "13/13 [==============================] - 0s 6ms/step - loss: 20.4099 - mae: 2.9858 - mse: 20.4099 - val_loss: 24.8716 - val_mae: 3.5308 - val_mse: 24.8716\n",
      "Epoch 57/100\n",
      "13/13 [==============================] - 0s 4ms/step - loss: 20.1294 - mae: 2.9851 - mse: 20.1294 - val_loss: 24.0715 - val_mae: 3.4838 - val_mse: 24.0715\n",
      "Epoch 58/100\n",
      "13/13 [==============================] - 0s 4ms/step - loss: 19.8804 - mae: 2.9741 - mse: 19.8804 - val_loss: 24.4374 - val_mae: 3.5208 - val_mse: 24.4374\n",
      "Epoch 59/100\n",
      "13/13 [==============================] - 0s 4ms/step - loss: 19.7379 - mae: 2.9485 - mse: 19.7379 - val_loss: 23.5490 - val_mae: 3.4685 - val_mse: 23.5490\n",
      "Epoch 60/100\n",
      "13/13 [==============================] - 0s 4ms/step - loss: 19.4545 - mae: 2.9241 - mse: 19.4545 - val_loss: 23.2351 - val_mae: 3.4401 - val_mse: 23.2351\n",
      "Epoch 61/100\n",
      "13/13 [==============================] - 0s 4ms/step - loss: 19.2855 - mae: 2.9215 - mse: 19.2855 - val_loss: 22.6750 - val_mae: 3.3928 - val_mse: 22.6750\n",
      "Epoch 62/100\n",
      "13/13 [==============================] - 0s 5ms/step - loss: 19.0013 - mae: 2.9009 - mse: 19.0013 - val_loss: 22.5706 - val_mae: 3.3901 - val_mse: 22.5706\n",
      "Epoch 63/100\n",
      "13/13 [==============================] - 0s 5ms/step - loss: 18.9101 - mae: 2.8822 - mse: 18.9101 - val_loss: 22.7643 - val_mae: 3.4175 - val_mse: 22.7643\n",
      "Epoch 64/100\n",
      "13/13 [==============================] - 0s 7ms/step - loss: 18.6220 - mae: 2.8579 - mse: 18.6220 - val_loss: 22.1089 - val_mae: 3.3749 - val_mse: 22.1089\n",
      "Epoch 65/100\n",
      "13/13 [==============================] - 0s 4ms/step - loss: 18.4757 - mae: 2.8448 - mse: 18.4757 - val_loss: 21.5114 - val_mae: 3.3284 - val_mse: 21.5114\n",
      "Epoch 66/100\n",
      "13/13 [==============================] - 0s 4ms/step - loss: 18.4878 - mae: 2.8816 - mse: 18.4878 - val_loss: 21.6887 - val_mae: 3.3427 - val_mse: 21.6887\n",
      "Epoch 67/100\n",
      "13/13 [==============================] - 0s 4ms/step - loss: 18.2205 - mae: 2.8433 - mse: 18.2205 - val_loss: 21.9185 - val_mae: 3.3673 - val_mse: 21.9185\n",
      "Epoch 68/100\n",
      "13/13 [==============================] - 0s 5ms/step - loss: 18.0480 - mae: 2.8249 - mse: 18.0480 - val_loss: 21.0849 - val_mae: 3.3038 - val_mse: 21.0849\n",
      "Epoch 69/100\n",
      "13/13 [==============================] - 0s 4ms/step - loss: 17.8479 - mae: 2.8082 - mse: 17.8479 - val_loss: 20.9710 - val_mae: 3.3002 - val_mse: 20.9710\n",
      "Epoch 70/100\n",
      "13/13 [==============================] - 0s 4ms/step - loss: 17.7070 - mae: 2.8318 - mse: 17.7070 - val_loss: 21.1862 - val_mae: 3.3212 - val_mse: 21.1862\n",
      "Epoch 71/100\n",
      "13/13 [==============================] - 0s 4ms/step - loss: 17.5566 - mae: 2.7944 - mse: 17.5566 - val_loss: 20.1932 - val_mae: 3.2554 - val_mse: 20.1932\n",
      "Epoch 72/100\n",
      "13/13 [==============================] - 0s 4ms/step - loss: 17.3605 - mae: 2.8018 - mse: 17.3605 - val_loss: 20.2205 - val_mae: 3.2524 - val_mse: 20.2205\n",
      "Epoch 73/100\n",
      "13/13 [==============================] - 0s 4ms/step - loss: 17.2155 - mae: 2.7722 - mse: 17.2155 - val_loss: 19.7744 - val_mae: 3.2197 - val_mse: 19.7744\n",
      "Epoch 74/100\n",
      "13/13 [==============================] - 0s 4ms/step - loss: 17.0230 - mae: 2.7664 - mse: 17.0230 - val_loss: 19.9398 - val_mae: 3.2344 - val_mse: 19.9398\n",
      "Epoch 75/100\n",
      "13/13 [==============================] - 0s 4ms/step - loss: 16.9060 - mae: 2.7592 - mse: 16.9060 - val_loss: 19.6168 - val_mae: 3.2047 - val_mse: 19.6168\n",
      "Epoch 76/100\n",
      "13/13 [==============================] - 0s 4ms/step - loss: 16.7266 - mae: 2.7612 - mse: 16.7266 - val_loss: 19.7311 - val_mae: 3.2150 - val_mse: 19.7311\n",
      "Epoch 77/100\n",
      "13/13 [==============================] - 0s 4ms/step - loss: 16.6655 - mae: 2.7465 - mse: 16.6655 - val_loss: 19.6453 - val_mae: 3.1928 - val_mse: 19.6453\n",
      "Epoch 78/100\n",
      "13/13 [==============================] - 0s 5ms/step - loss: 16.4505 - mae: 2.7271 - mse: 16.4505 - val_loss: 19.3235 - val_mae: 3.1693 - val_mse: 19.3235\n",
      "Epoch 79/100\n",
      "13/13 [==============================] - 0s 4ms/step - loss: 16.3692 - mae: 2.7106 - mse: 16.3692 - val_loss: 19.7169 - val_mae: 3.2292 - val_mse: 19.7169\n",
      "Epoch 80/100\n",
      "13/13 [==============================] - 0s 4ms/step - loss: 16.2086 - mae: 2.7220 - mse: 16.2086 - val_loss: 19.4000 - val_mae: 3.1894 - val_mse: 19.4000\n",
      "Epoch 81/100\n",
      "13/13 [==============================] - 0s 9ms/step - loss: 16.1327 - mae: 2.6843 - mse: 16.1327 - val_loss: 18.9829 - val_mae: 3.1523 - val_mse: 18.9829\n",
      "Epoch 82/100\n",
      "13/13 [==============================] - 0s 4ms/step - loss: 15.9850 - mae: 2.6715 - mse: 15.9850 - val_loss: 18.1984 - val_mae: 3.0798 - val_mse: 18.1984\n",
      "Epoch 83/100\n",
      "13/13 [==============================] - 0s 4ms/step - loss: 15.8691 - mae: 2.6855 - mse: 15.8691 - val_loss: 18.2741 - val_mae: 3.0850 - val_mse: 18.2741\n",
      "Epoch 84/100\n",
      "13/13 [==============================] - 0s 4ms/step - loss: 15.7608 - mae: 2.6559 - mse: 15.7608 - val_loss: 18.3804 - val_mae: 3.1024 - val_mse: 18.3804\n",
      "Epoch 85/100\n",
      "13/13 [==============================] - 0s 4ms/step - loss: 15.5397 - mae: 2.6253 - mse: 15.5397 - val_loss: 17.6898 - val_mae: 3.0629 - val_mse: 17.6898\n",
      "Epoch 86/100\n",
      "13/13 [==============================] - 0s 4ms/step - loss: 15.5124 - mae: 2.6891 - mse: 15.5124 - val_loss: 17.3555 - val_mae: 3.0565 - val_mse: 17.3555\n",
      "Epoch 87/100\n",
      "13/13 [==============================] - 0s 5ms/step - loss: 15.4470 - mae: 2.6583 - mse: 15.4470 - val_loss: 17.3286 - val_mae: 3.0300 - val_mse: 17.3286\n",
      "Epoch 88/100\n",
      "13/13 [==============================] - 0s 4ms/step - loss: 15.3373 - mae: 2.6508 - mse: 15.3373 - val_loss: 17.1519 - val_mae: 3.0068 - val_mse: 17.1519\n",
      "Epoch 89/100\n",
      "13/13 [==============================] - 0s 3ms/step - loss: 15.2129 - mae: 2.6545 - mse: 15.2129 - val_loss: 18.0290 - val_mae: 3.1038 - val_mse: 18.0290\n",
      "Epoch 90/100\n",
      "13/13 [==============================] - 0s 5ms/step - loss: 15.0921 - mae: 2.6287 - mse: 15.0921 - val_loss: 17.5130 - val_mae: 3.0552 - val_mse: 17.5130\n",
      "Epoch 91/100\n",
      "13/13 [==============================] - 0s 4ms/step - loss: 14.8680 - mae: 2.6141 - mse: 14.8680 - val_loss: 17.5318 - val_mae: 3.0626 - val_mse: 17.5318\n",
      "Epoch 92/100\n",
      "13/13 [==============================] - 0s 4ms/step - loss: 14.7865 - mae: 2.6098 - mse: 14.7865 - val_loss: 17.2750 - val_mae: 3.0323 - val_mse: 17.2750\n"
     ]
    }
   ],
   "source": [
    "history = model.fit(X_train,y_train, batch_size=23, epochs=100, verbose=1, validation_split = 0.2, \n",
    "                    callbacks=[early_stop, tfdocs.modeling.EpochDots()])"
   ]
  },
  {
   "cell_type": "code",
   "execution_count": 32,
   "metadata": {},
   "outputs": [
    {
     "data": {
      "text/html": [
       "<div>\n",
       "<style scoped>\n",
       "    .dataframe tbody tr th:only-of-type {\n",
       "        vertical-align: middle;\n",
       "    }\n",
       "\n",
       "    .dataframe tbody tr th {\n",
       "        vertical-align: top;\n",
       "    }\n",
       "\n",
       "    .dataframe thead th {\n",
       "        text-align: right;\n",
       "    }\n",
       "</style>\n",
       "<table border=\"1\" class=\"dataframe\">\n",
       "  <thead>\n",
       "    <tr style=\"text-align: right;\">\n",
       "      <th></th>\n",
       "      <th>loss</th>\n",
       "      <th>mae</th>\n",
       "      <th>mse</th>\n",
       "      <th>val_loss</th>\n",
       "      <th>val_mae</th>\n",
       "      <th>val_mse</th>\n",
       "      <th>epoch</th>\n",
       "    </tr>\n",
       "  </thead>\n",
       "  <tbody>\n",
       "    <tr>\n",
       "      <th>87</th>\n",
       "      <td>15.337261</td>\n",
       "      <td>2.650759</td>\n",
       "      <td>15.337259</td>\n",
       "      <td>17.151936</td>\n",
       "      <td>3.006794</td>\n",
       "      <td>17.151936</td>\n",
       "      <td>87</td>\n",
       "    </tr>\n",
       "    <tr>\n",
       "      <th>88</th>\n",
       "      <td>15.212922</td>\n",
       "      <td>2.654486</td>\n",
       "      <td>15.212922</td>\n",
       "      <td>18.029041</td>\n",
       "      <td>3.103831</td>\n",
       "      <td>18.029041</td>\n",
       "      <td>88</td>\n",
       "    </tr>\n",
       "    <tr>\n",
       "      <th>89</th>\n",
       "      <td>15.092061</td>\n",
       "      <td>2.628747</td>\n",
       "      <td>15.092061</td>\n",
       "      <td>17.512968</td>\n",
       "      <td>3.055202</td>\n",
       "      <td>17.512968</td>\n",
       "      <td>89</td>\n",
       "    </tr>\n",
       "    <tr>\n",
       "      <th>90</th>\n",
       "      <td>14.867993</td>\n",
       "      <td>2.614113</td>\n",
       "      <td>14.867993</td>\n",
       "      <td>17.531790</td>\n",
       "      <td>3.062579</td>\n",
       "      <td>17.531790</td>\n",
       "      <td>90</td>\n",
       "    </tr>\n",
       "    <tr>\n",
       "      <th>91</th>\n",
       "      <td>14.786464</td>\n",
       "      <td>2.609838</td>\n",
       "      <td>14.786464</td>\n",
       "      <td>17.275019</td>\n",
       "      <td>3.032288</td>\n",
       "      <td>17.275019</td>\n",
       "      <td>91</td>\n",
       "    </tr>\n",
       "  </tbody>\n",
       "</table>\n",
       "</div>"
      ],
      "text/plain": [
       "         loss       mae        mse   val_loss   val_mae    val_mse  epoch\n",
       "87  15.337261  2.650759  15.337259  17.151936  3.006794  17.151936     87\n",
       "88  15.212922  2.654486  15.212922  18.029041  3.103831  18.029041     88\n",
       "89  15.092061  2.628747  15.092061  17.512968  3.055202  17.512968     89\n",
       "90  14.867993  2.614113  14.867993  17.531790  3.062579  17.531790     90\n",
       "91  14.786464  2.609838  14.786464  17.275019  3.032288  17.275019     91"
      ]
     },
     "execution_count": 32,
     "metadata": {},
     "output_type": "execute_result"
    }
   ],
   "source": [
    "hist = pd.DataFrame(history.history)\n",
    "hist['epoch'] = history.epoch\n",
    "hist.tail()"
   ]
  },
  {
   "cell_type": "code",
   "execution_count": 33,
   "metadata": {},
   "outputs": [],
   "source": [
    "plotter = tfdocs.plots.HistoryPlotter(smoothing_std=2)"
   ]
  },
  {
   "cell_type": "code",
   "execution_count": 34,
   "metadata": {},
   "outputs": [
    {
     "data": {
      "text/plain": [
       "Text(0, 0.5, 'MAE [MPG]')"
      ]
     },
     "execution_count": 34,
     "metadata": {},
     "output_type": "execute_result"
    },
    {
     "data": {
      "image/png": "[encoded data removed]",
      "text/plain": [
       "<Figure size 432x288 with 1 Axes>"
      ]
     },
     "metadata": {
      "needs_background": "light"
     },
     "output_type": "display_data"
    }
   ],
   "source": [
    "plotter.plot({'Basic': history}, metric = \"mae\")\n",
    "plt.ylim([0, 10])\n",
    "plt.ylabel('MAE [MPG]')"
   ]
  },
  {
   "cell_type": "code",
   "execution_count": 36,
   "metadata": {},
   "outputs": [
    {
     "data": {
      "text/plain": [
       "Text(0, 0.5, 'MAE')"
      ]
     },
     "execution_count": 36,
     "metadata": {},
     "output_type": "execute_result"
    },
    {
     "data": {
      "image/png": "[encoded data removed]",
      "text/plain": [
       "<Figure size 432x288 with 1 Axes>"
      ]
     },
     "metadata": {
      "needs_background": "light"
     },
     "output_type": "display_data"
    }
   ],
   "source": [
    "plotter.plot({'Early Stopping': history}, metric = \"mae\")\n",
    "plt.ylim([0, 10])\n",
    "plt.ylabel('MAE')"
   ]
  },
  {
   "cell_type": "code",
   "execution_count": 37,
   "metadata": {},
   "outputs": [
    {
     "name": "stdout",
     "output_type": "stream",
     "text": [
      "5/5 - 0s - loss: 18.0076 - mae: 2.8046 - mse: 18.0076\n"
     ]
    }
   ],
   "source": [
    "loss, mae, mse = model.evaluate(X_test, y_test, verbose=2)"
   ]
  },
  {
   "cell_type": "code",
   "execution_count": 39,
   "metadata": {},
   "outputs": [
    {
     "name": "stdout",
     "output_type": "stream",
     "text": [
      "Testing set Mean Abs Error:  2.80\n"
     ]
    }
   ],
   "source": [
    "print(\"Testing set Mean Abs Error: {:5.2f}\".format(mae))"
   ]
  },
  {
   "cell_type": "code",
   "execution_count": 41,
   "metadata": {},
   "outputs": [],
   "source": [
    "test_predictions = model.predict(X_test).flatten()"
   ]
  },
  {
   "cell_type": "code",
   "execution_count": 45,
   "metadata": {},
   "outputs": [
    {
     "data": {
      "image/png": "[encoded data removed]",
      "text/plain": [
       "<Figure size 432x288 with 1 Axes>"
      ]
     },
     "metadata": {
      "needs_background": "light"
     },
     "output_type": "display_data"
    }
   ],
   "source": [
    "a = plt.axes(aspect='equal')\n",
    "plt.scatter(y_test, test_predictions)\n",
    "plt.xlabel('True Values')\n",
    "plt.ylabel('Predictions')\n",
    "_ = plt.plot(lims, lims)"
   ]
  },
  {
   "cell_type": "code",
   "execution_count": 53,
   "metadata": {},
   "outputs": [
    {
     "data": {
      "image/png": "[encoded data removed]",
      "text/plain": [
       "<Figure size 432x288 with 1 Axes>"
      ]
     },
     "metadata": {
      "needs_background": "light"
     },
     "output_type": "display_data"
    }
   ],
   "source": [
    "error = test_predictions - y_test.flatten()\n",
    "plt.hist(error, bins=25)\n",
    "plt.xlabel(\"Prediction Error\")\n",
    "_ = plt.ylabel(\"Count\")"
   ]
  },
  {
   "cell_type": "code",
   "execution_count": 55,
   "metadata": {},
   "outputs": [
    {
     "data": {
      "text/plain": [
       "18.00756330131393"
      ]
     },
     "execution_count": 55,
     "metadata": {},
     "output_type": "execute_result"
    }
   ],
   "source": [
    "mean_squared_error(test_predictions, y_test.flatten())"
   ]
  },
  {
   "cell_type": "markdown",
   "metadata": {},
   "source": [
    "## PyTorch"
   ]
  },
  {
   "cell_type": "code",
   "execution_count": 14,
   "metadata": {},
   "outputs": [],
   "source": [
    "import torch\n",
    "import torch.nn as nn\n",
    "from torch import Tensor\n",
    "import torch.nn.functional as F\n",
    "from torch.autograd import Variable\n",
    "from torch.optim import Optimizer\n",
    "from torch.optim import lr_scheduler\n",
    "from torch.nn.modules.loss import _Loss\n",
    "from torch.utils.data import DataLoader"
   ]
  },
  {
   "cell_type": "code",
   "execution_count": 15,
   "metadata": {},
   "outputs": [],
   "source": [
    "class PyTorchTrainer(object):\n",
    "    def __init__(self,\n",
    "                 model,\n",
    "                 optim: Optimizer,\n",
    "                 criterion: _Loss):\n",
    "        self.model = model\n",
    "        self.optim = optim\n",
    "        self.loss = criterion\n",
    "        self._check_optim_net_aligned()\n",
    "\n",
    "    def _check_optim_net_aligned(self):\n",
    "        assert self.optim.param_groups[0]['params']\\\n",
    "            == list(self.model.parameters())\n",
    "\n",
    "    def _generate_batches(self,\n",
    "                          X: Tensor,\n",
    "                          y: Tensor,\n",
    "                          size: int = 32) -> Tuple[Tensor]:\n",
    "\n",
    "        N = X.shape[0]\n",
    "\n",
    "        for ii in range(0, N, size):\n",
    "            X_batch, y_batch = X[ii:ii+size], y[ii:ii+size]\n",
    "\n",
    "            yield X_batch, y_batch\n",
    "\n",
    "    def _permute_data(self, X: Tensor, y: Tensor, seed=1) -> Tuple[Tensor]:\n",
    "        perm = torch.randperm(X.shape[0])\n",
    "        return X[perm], y[perm]\n",
    "\n",
    "    def fit(self, X_train: Tensor = None,\n",
    "            y_train: Tensor = None,\n",
    "            X_test: Tensor = None,\n",
    "            y_test: Tensor = None,\n",
    "            train_dataloader: DataLoader = None,\n",
    "            test_dataloader: DataLoader = None,\n",
    "            epochs: int=100,\n",
    "            eval_every: int=10,\n",
    "            batch_size: int=32,\n",
    "            final_lr_exp: int = None):\n",
    "\n",
    "        init_lr = self.optim.param_groups[0]['lr']\n",
    "        if final_lr_exp:\n",
    "            decay = (final_lr_exp / init_lr) ** (1.0 / (epochs + 1))\n",
    "            scheduler = lr_scheduler.ExponentialLR(self.optim, gamma=decay)\n",
    "        for e in range(epochs):\n",
    "\n",
    "            if final_lr_exp:\n",
    "                scheduler.step()\n",
    "\n",
    "            if not train_dataloader:\n",
    "                X_train, y_train = self._permute_data(X_train, y_train)\n",
    "\n",
    "                batch_generator = self._generate_batches(X_train, y_train,\n",
    "                                                         batch_size)\n",
    "\n",
    "                self.model.train()\n",
    "\n",
    "                for ii, (X_batch, y_batch) in enumerate(batch_generator):\n",
    "\n",
    "                    self.optim.zero_grad()   # zero the gradient buffers\n",
    "\n",
    "                    output = self.model(X_batch)[0]\n",
    "\n",
    "                    loss = self.loss(output, y_batch)\n",
    "                    loss.backward()\n",
    "                    self.optim.step()\n",
    "\n",
    "                if e % eval_every == 0:\n",
    "                    with torch.no_grad():\n",
    "                        self.model.eval()\n",
    "                        output = self.model(X_test)[0]\n",
    "                        loss = self.loss(output, y_test)\n",
    "                        print(\"The loss after\", e+1, \"epochs was\", loss.item())\n",
    "\n",
    "            else:\n",
    "                for X_batch, y_batch in train_dataloader:\n",
    "\n",
    "                    self.optim.zero_grad()\n",
    "\n",
    "                    output = self.model(X_batch)[0]\n",
    "\n",
    "                    loss = self.loss(output, y_batch)\n",
    "                    loss.backward()\n",
    "                    self.optim.step()\n",
    "\n",
    "                if e % eval_every == 0:\n",
    "                    with torch.no_grad():\n",
    "                        self.model.eval()\n",
    "                        losses = []\n",
    "                        for X_batch, y_batch in test_dataloader:\n",
    "                            output = self.model(X_batch)[0]\n",
    "                            loss = self.loss(output, y_batch)\n",
    "                            losses.append(loss.item())\n",
    "                        print(\"The loss after\", e, \"epochs was\",\n",
    "                              round(torch.Tensor(losses).mean().item(), 4))"
   ]
  },
  {
   "cell_type": "code",
   "execution_count": 16,
   "metadata": {},
   "outputs": [],
   "source": [
    "class PyTorchLayer(nn.Module):\n",
    "\n",
    "    def __init__(self) -> None:\n",
    "        super().__init__()\n",
    "\n",
    "    def forward(self, x: Tensor,\n",
    "                inference: bool = False) -> Tensor:\n",
    "        raise NotImplementedError()\n",
    "        \n",
    "        \n",
    "class PyTorchModel(nn.Module):\n",
    "\n",
    "    def __init__(self) -> None:\n",
    "        super().__init__()\n",
    "\n",
    "    def forward(self, x: Tensor) -> Tuple[Tensor]:\n",
    "        raise NotImplementedError()\n",
    "        \n",
    "        \n",
    "def assert_dim(t: Tensor,\n",
    "               dim: Tensor):\n",
    "    assert len(t.shape) == dim, \\\n",
    "        '''\n",
    "        Tensor expected to have dimension {0}, instead has dimension {1}\n",
    "        '''.format(dim, len(t.shape))\n",
    "    return None"
   ]
  },
  {
   "cell_type": "code",
   "execution_count": 17,
   "metadata": {},
   "outputs": [],
   "source": [
    "def inference_mode(m: nn.Module):\n",
    "    m.eval()\n",
    "        \n",
    "        \n",
    "class DenseLayer(PyTorchLayer):\n",
    "    def __init__(self,\n",
    "                 input_size: int,\n",
    "                 neurons: int,\n",
    "                 dropout: float = 1.0,\n",
    "                 activation: nn.Module = None) -> None:\n",
    "\n",
    "        super().__init__()\n",
    "        self.linear = nn.Linear(input_size, neurons)\n",
    "        self.activation = activation\n",
    "        if dropout < 1.0:\n",
    "            self.dropout = nn.Dropout(1 - dropout)\n",
    "\n",
    "    def forward(self, x: Tensor,\n",
    "                inference: bool = False) -> Tensor:\n",
    "        if inference:\n",
    "            self.apply(inference_mode)\n",
    "\n",
    "        x = self.linear(x)  # does weight multiplication + bias\n",
    "        if self.activation:\n",
    "            x = self.activation(x)\n",
    "        if hasattr(self, \"dropout\"):\n",
    "            x = self.dropout(x)\n",
    "\n",
    "        return x"
   ]
  },
  {
   "cell_type": "code",
   "execution_count": 18,
   "metadata": {},
   "outputs": [],
   "source": [
    "class BostonModel(PyTorchModel):\n",
    "\n",
    "    def __init__(self,\n",
    "                 hidden_size: int = 13,\n",
    "                 hidden_dropout: float = 1.0):\n",
    "        super().__init__()\n",
    "        self.dense1 = DenseLayer(13, hidden_size, \n",
    "                                 activation=nn.Tanh(),\n",
    "                                 dropout = hidden_dropout)\n",
    "        self.dense2 = DenseLayer(hidden_size, 1)\n",
    "\n",
    "    def forward(self, x: Tensor,\n",
    "                inference: bool = False) -> Tensor:\n",
    "        \n",
    "        assert_dim(x, 2)\n",
    "        \n",
    "        assert x.shape[1] == 13\n",
    "\n",
    "        x = self.dense1(x, inference)\n",
    "        return self.dense2(x, inference),"
   ]
  },
  {
   "cell_type": "code",
   "execution_count": 19,
   "metadata": {},
   "outputs": [],
   "source": [
    "X_train, X_test, y_train, y_test = Tensor(X_train), Tensor(X_test), Tensor(y_train), Tensor(y_test)"
   ]
  },
  {
   "cell_type": "code",
   "execution_count": 20,
   "metadata": {},
   "outputs": [],
   "source": [
    "pytorch_boston_model = BostonModel(hidden_size=13, hidden_dropout=0.8)\n",
    "optimizer = torch.optim.SGD(pytorch_boston_model.parameters(), lr=0.001, momentum=0.9)\n",
    "\n",
    "criterion = nn.MSELoss()"
   ]
  },
  {
   "cell_type": "code",
   "execution_count": 21,
   "metadata": {},
   "outputs": [
    {
     "name": "stderr",
     "output_type": "stream",
     "text": [
      "/Users/steffen/miniconda3/envs/deep_learning/lib/python3.8/site-packages/torch/optim/lr_scheduler.py:118: UserWarning: Detected call of `lr_scheduler.step()` before `optimizer.step()`. In PyTorch 1.1.0 and later, you should call them in the opposite order: `optimizer.step()` before `lr_scheduler.step()`.  Failure to do this will result in PyTorch skipping the first value of the learning rate schedule. See more details at https://pytorch.org/docs/stable/optim.html#how-to-adjust-learning-rate\n",
      "  warnings.warn(\"Detected call of `lr_scheduler.step()` before `optimizer.step()`. \"\n"
     ]
    },
    {
     "name": "stdout",
     "output_type": "stream",
     "text": [
      "The loss after 1 epochs was 405.6063537597656\n",
      "The loss after 11 epochs was 27.64900016784668\n",
      "The loss after 21 epochs was 20.719297409057617\n",
      "The loss after 31 epochs was 23.351734161376953\n",
      "The loss after 41 epochs was 20.33896827697754\n",
      "The loss after 51 epochs was 19.70602035522461\n",
      "The loss after 61 epochs was 18.885042190551758\n",
      "The loss after 71 epochs was 15.947514533996582\n",
      "The loss after 81 epochs was 18.582767486572266\n",
      "The loss after 91 epochs was 16.953500747680664\n"
     ]
    }
   ],
   "source": [
    "trainer = PyTorchTrainer(pytorch_boston_model, optimizer, criterion)\n",
    "\n",
    "trainer.fit(X_train=X_train, \n",
    "            y_train=y_train, \n",
    "            X_test=X_test, \n",
    "            y_test=y_test,\n",
    "            epochs=100,\n",
    "            eval_every=10,\n",
    "            final_lr_exp = 0.001)"
   ]
  },
  {
   "cell_type": "code",
   "execution_count": 22,
   "metadata": {},
   "outputs": [
    {
     "data": {
      "text/plain": [
       "16.172704696655273"
      ]
     },
     "execution_count": 22,
     "metadata": {},
     "output_type": "execute_result"
    }
   ],
   "source": [
    "torch.mean(torch.pow(pytorch_boston_model(X_test, inference=True)[0] - y_test, 2)).item()"
   ]
  },
  {
   "cell_type": "code",
   "execution_count": 23,
   "metadata": {},
   "outputs": [],
   "source": [
    "test_pred = pytorch_boston_model(X_test)[0].view(-1)\n",
    "test_actual = y_test"
   ]
  },
  {
   "cell_type": "code",
   "execution_count": 24,
   "metadata": {},
   "outputs": [],
   "source": [
    "test_pred = test_pred.detach().numpy()\n",
    "test_actual = test_actual.detach().numpy()"
   ]
  },
  {
   "cell_type": "code",
   "execution_count": 25,
   "metadata": {},
   "outputs": [
    {
     "data": {
      "text/plain": [
       "<matplotlib.collections.PathCollection at 0x7fedaee43130>"
      ]
     },
     "execution_count": 25,
     "metadata": {},
     "output_type": "execute_result"
    },
    {
     "data": {
      "image/png": "[encoded data removed]",
      "text/plain": [
       "<Figure size 432x288 with 1 Axes>"
      ]
     },
     "metadata": {
      "needs_background": "light"
     },
     "output_type": "display_data"
    }
   ],
   "source": [
    "plt.scatter(test_pred, test_actual)"
   ]
  }
 ],
 "metadata": {
  "kernelspec": {
   "display_name": "Python 3",
   "language": "python",
   "name": "python3"
  },
  "language_info": {
   "codemirror_mode": {
    "name": "ipython",
    "version": 3
   },
   "file_extension": ".py",
   "mimetype": "text/x-python",
   "name": "python",
   "nbconvert_exporter": "python",
   "pygments_lexer": "ipython3",
   "version": "3.8.3"
  }
 },
 "nbformat": 4,
 "nbformat_minor": 4
}
